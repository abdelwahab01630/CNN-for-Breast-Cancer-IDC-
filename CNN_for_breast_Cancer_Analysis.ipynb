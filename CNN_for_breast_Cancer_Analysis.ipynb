{
 "cells": [
  {
   "cell_type": "markdown",
   "metadata": {},
   "source": [
    "## CONVOLUTION NEURAL NETWORKS FOR BREAST CANCER DIAGNOSIS\n",
    "#### By Mahamat Azibert ABDELWAHAB"
   ]
  },
  {
   "cell_type": "markdown",
   "metadata": {},
   "source": [
    "### Import all the necessary libraries"
   ]
  },
  {
   "cell_type": "code",
   "execution_count": 1,
   "metadata": {},
   "outputs": [],
   "source": [
    "import pandas as pd\n",
    "import numpy as np\n",
    "import os\n",
    "from glob import glob\n",
    "import random\n",
    "import matplotlib.pylab as plt\n",
    "import seaborn as sns\n",
    "from sklearn.model_selection import train_test_split\n",
    "\n",
    "import tensorflow as tf\n",
    "import keras\n",
    "\n",
    "from keras.utils.np_utils import to_categorical\n",
    "from tensorflow.keras.optimizers import Adam\n",
    "from keras.layers import Dense, Dropout, Activation, Flatten, BatchNormalization, Conv2D, MaxPool2D, MaxPooling2D\n",
    "from tensorflow.keras.callbacks import ReduceLROnPlateau, ModelCheckpoint, EarlyStopping\n",
    "from tensorflow.keras.applications import VGG16, EfficientNetB1\n",
    "from tensorflow.keras import Model\n",
    "from tensorflow.keras.models import Sequential\n",
    "from tensorflow.keras import layers\n",
    "from keras.preprocessing.image import ImageDataGenerator, load_img, img_to_array, array_to_img\n",
    "import keras.backend as K\n",
    "from keras import regularizers\n",
    "from keras.layers import InputLayer, GlobalAveragePooling2D\n",
    "from keras import optimizers\n",
    "\n",
    "from sklearn.metrics import confusion_matrix, roc_curve, auc, classification_report\n",
    "\n",
    "from matplotlib.image import imread\n",
    "import cv2 \n",
    "\n",
    "from keras.applications.resnet import ResNet50\n",
    "\n",
    "\n",
    "# My CNN Library\n",
    "import numpy as np\n",
    "from keras.datasets import mnist\n",
    "from keras.utils import np_utils\n",
    "\n",
    "from dense import Dense as dense\n",
    "from convolutional import Convolutional\n",
    "from reshape import Reshape\n",
    "from activations import Sigmoid, Relu, Softmax\n",
    "from losses import binary_cross_entropy, binary_cross_entropy_prime\n",
    "from network import train, predict, fit\n",
    "from pooling import Pooling\n",
    "from model import Model\n",
    "from dropout import Dropout as dropout\n",
    "\n",
    "import warnings\n",
    "\n",
    "warnings.filterwarnings(\"ignore\")"
   ]
  },
  {
   "cell_type": "markdown",
   "metadata": {},
   "source": [
    "# Images preprocessing"
   ]
  },
  {
   "cell_type": "code",
   "execution_count": 2,
   "metadata": {},
   "outputs": [],
   "source": [
    "# All the images patches\n",
    "imagePatches = glob('../Data/IDC/**/*.png', recursive=True)\n",
    "\n",
    "class0 = [] # 0 = no cancer\n",
    "class1 = [] # 1 = cancer\n",
    "\n",
    "# Extract patches for Benign (0) and Malignant (1)\n",
    "for filename in imagePatches:\n",
    "    if filename.endswith(\"class0.png\"):\n",
    "         class0.append(filename)\n",
    "    else:\n",
    "        class1.append(filename)"
   ]
  },
  {
   "cell_type": "code",
   "execution_count": 3,
   "metadata": {},
   "outputs": [
    {
     "data": {
      "image/png": "[encoded data removed]",
      "text/plain": [
       "<Figure size 432x288 with 1 Axes>"
      ]
     },
     "metadata": {},
     "output_type": "display_data"
    }
   ],
   "source": [
    "# Pie chart (Number of Samples For Each Class)\n",
    "labels = \"0: Benign (not cancerous)\", \"1: Malignant (cancerous)\"\n",
    "result = [len(class0), len(class1)]\n",
    "total = result[0] + result[1]\n",
    "sizes = [result[0]/total, result[1]/total]\n",
    "explode = (0, 0.1)  # only \"explode\" the 2nd slice (i.e. 'Hogs')\n",
    "\n",
    "fig1, ax1 = plt.subplots()\n",
    "ax1.pie(sizes, explode=explode, labels=labels, autopct='%1.2f%%',\n",
    "        shadow=True, startangle=90)\n",
    "\n",
    "ax1.axis('equal')  # Equal aspect ratio ensures that pie is drawn as a circle.\n",
    "plt.title(\"Number of Samples by Class\")\n",
    "plt.show()"
   ]
  },
  {
   "cell_type": "code",
   "execution_count": 4,
   "metadata": {},
   "outputs": [],
   "source": [
    "# Function to read the images as arrays\n",
    "def get_image_arrays(data, label, img_size = 50, bgr=True):\n",
    "    \n",
    "    img_arrays = []\n",
    "    \n",
    "    for i in data:\n",
    "        if i.endswith('.png'):\n",
    "            img = cv2.imread(i ,cv2.IMREAD_COLOR)\n",
    "            \n",
    "            if bgr==False:\n",
    "                img = cv2.cvtColor(img, cv2.COLOR_BGR2GRAY)\n",
    "                \n",
    "            img_sized = cv2.resize(img, (img_size,img_size), interpolation=cv2.INTER_LINEAR)\n",
    "            img_arrays.append([img_sized, label])\n",
    "            \n",
    "    return img_arrays"
   ]
  },
  {
   "cell_type": "code",
   "execution_count": 5,
   "metadata": {},
   "outputs": [],
   "source": [
    "# Extract the same number of Malignant and Benign file patches\n",
    "# to handle the unbalancing data problem\n",
    "number_of_malignant = len(class1)\n",
    "#number_of_malignant = int(number_of_malignant*0.2)\n",
    "sampled_class0 = random.sample(class0, number_of_malignant)\n",
    "sampled_class1 = random.sample(class1, number_of_malignant)"
   ]
  },
  {
   "cell_type": "code",
   "execution_count": 6,
   "metadata": {},
   "outputs": [],
   "source": [
    "# Data preprocessing and split\n",
    "def pre_processing(img_size=50, bgr = True):\n",
    "    # Read the images\n",
    "    class0_array = get_image_arrays(sampled_class0, 0, img_size, bgr)\n",
    "    class1_array = get_image_arrays(sampled_class1, 1, img_size, bgr)\n",
    "\n",
    "    # Combine and shuffle the data\n",
    "    combined_data = np.concatenate((class0_array, class1_array))\n",
    "    random.seed(41)\n",
    "    random.shuffle(combined_data)\n",
    "    \n",
    "    # Extract Features and Target\n",
    "    X = []\n",
    "    y = []\n",
    "\n",
    "    for features,label in combined_data:\n",
    "        X.append(features)\n",
    "        y.append(label)\n",
    "    \n",
    "    if bgr:\n",
    "        X = np.array(X).reshape(-1, img_size, img_size, 3)\n",
    "    else:\n",
    "        X = np.array(X).reshape(-1, img_size, img_size, 1)\n",
    "    \n",
    "#     if bgr==False:\n",
    "#         X = np.array(X).reshape(-1, img_size, img_size, 1)\n",
    "    \n",
    "    # set aside 20% of train and test data for evaluation\n",
    "    X_train, X_test, y_train, y_test = train_test_split(X, y,\n",
    "        test_size=0.2, shuffle = True, random_state = 8)\n",
    "\n",
    "    # Use the same function above for the validation set\n",
    "    X_train, X_val, y_train, y_val = train_test_split(X_train, y_train, \n",
    "        test_size=0.25, random_state= 8) # 0.25 x 0.8 = 0.2\n",
    "    \n",
    "    y_train = to_categorical(y_train)\n",
    "    y_test = to_categorical(y_test)\n",
    "    y_val = to_categorical(y_val)\n",
    "\n",
    "#     # Normalize the data\n",
    "#     X_train = X_train / 255.0\n",
    "#     X_test = X_test / 255.0\n",
    "#     X_val = X_val / 255.0\n",
    "    \n",
    "    X_train, X_test, X_val = X_train - np.mean(X_train), X_test - np.mean(X_test), X_val - np.mean(X_val)\n",
    "    X_train, X_test, X_val = X_train / np.std(X_train), X_test / np.std(X_test), X_val / np.std(X_val)\n",
    "    \n",
    "    return X_train, X_test, X_val, y_train, y_test, y_val"
   ]
  },
  {
   "cell_type": "code",
   "execution_count": 7,
   "metadata": {},
   "outputs": [],
   "source": [
    "def describe_data_shape():\n",
    "    print(\"X_train shape: {}\".format(X_train.shape))\n",
    "    print(\"X_test shape: {}\".format(X_test.shape))\n",
    "    print(\"y_train shape: {}\".format(y_train.shape))\n",
    "    print(\"y_test shape: {}\".format(y_test.shape))\n",
    "    print(\"X_val shape: {}\".format(X_val.shape))\n",
    "    print(\"y val shape: {}\".format(y_val.shape))"
   ]
  },
  {
   "cell_type": "code",
   "execution_count": 8,
   "metadata": {},
   "outputs": [],
   "source": [
    "def plot_confusion_matrix(model, X_test, y_test):\n",
    "    Y_pred = model.predict(X_test)\n",
    "    Y_pred_classes = np.argmax(Y_pred,axis = 1) \n",
    "    Y_true = np.argmax(y_test,axis = 1) \n",
    "\n",
    "    confusion_mtx = confusion_matrix(Y_true, Y_pred_classes) \n",
    "\n",
    "    f,ax = plt.subplots(figsize=(5, 4))\n",
    "    sns.heatmap(confusion_mtx, annot=True,cmap=\"OrRd\",linecolor=\"black\", fmt= '.1f',ax=ax, xticklabels=['False', 'True'],yticklabels=['False', 'True'])\n",
    "    plt.xlabel(\"Predicted Label\")\n",
    "    plt.ylabel(\"True Label\")\n",
    "    plt.title(\"Confusion Matrix\")\n",
    "    plt.show()"
   ]
  },
  {
   "cell_type": "code",
   "execution_count": 9,
   "metadata": {},
   "outputs": [],
   "source": [
    "def report(model, X_test, y_test):\n",
    "    Y_pred = model.predict(X_test)\n",
    "    Y_pred_classes = np.argmax(Y_pred,axis = 1) \n",
    "    Y_true = np.argmax(y_test,axis = 1) \n",
    "    \n",
    "    print(classification_report(Y_true, Y_pred_classes))"
   ]
  },
  {
   "cell_type": "code",
   "execution_count": 10,
   "metadata": {},
   "outputs": [],
   "source": [
    "def calc_accuracy_model(model, test_set):\n",
    "    return print(f'''The model validation accuracy is: \n",
    "    {np.equal(np.argmax(model.forward(test_set, inference=True), axis=1), y_test).sum() * 100.0 / test_set.shape[0]:.2f}%''')"
   ]
  },
  {
   "cell_type": "code",
   "execution_count": 11,
   "metadata": {},
   "outputs": [],
   "source": [
    "def Display_prediction_results(network, X, Y, set_title='Test'):\n",
    "    \n",
    "    Y_pred_classes = []\n",
    "    Y_true = []\n",
    "    \n",
    "    for x, y in zip(X, Y):\n",
    "        output = predict(network, x)\n",
    "        Y_pred_classes.append(np.argmax(output))\n",
    "        Y_true.append(np.argmax(y))\n",
    "        \n",
    "    Y_pred_classes = np.array(Y_pred_classes) \n",
    "    Y_true = np.array(Y_true)\n",
    "    \n",
    "    acc = np.equal(Y_pred_classes, Y_true).sum() * 100.0 / Y_true.shape[0]\n",
    "    \n",
    "    print(f'{set_title} accuracy: {acc}')\n",
    "    \n",
    "    \n",
    "    confusion_mtx = confusion_matrix(Y_true, Y_pred_classes) \n",
    "\n",
    "    f,ax = plt.subplots(figsize=(5, 4))\n",
    "    sns.heatmap(confusion_mtx, annot=True,cmap=\"OrRd\",linecolor=\"black\", fmt= '.1f',ax=ax, xticklabels=['False', 'True'],yticklabels=['False', 'True'])\n",
    "    plt.xlabel(\"Predicted Label\")\n",
    "    plt.ylabel(\"True Label\")\n",
    "    plt.title(\"Confusion Matrix\")\n",
    "    plt.show()"
   ]
  },
  {
   "cell_type": "markdown",
   "metadata": {},
   "source": [
    "# CNN FROM SCRATCH"
   ]
  },
  {
   "cell_type": "code",
   "execution_count": 12,
   "metadata": {},
   "outputs": [],
   "source": [
    "def plot_accuracy_loss_CNN(hist, title_fig = 'CNN Performance with ReLU'):\n",
    "    \n",
    "    f, (ax1, ax2) = plt.subplots(1, 2, figsize=(15, 5))\n",
    "    t = f.suptitle(title_fig, fontsize=12)\n",
    "    f.subplots_adjust(top=0.85, wspace=0.3)\n",
    "\n",
    "    n = len(hist['Train Acc'])\n",
    "\n",
    "    epoch_list = list(range(1,n+1))\n",
    "    ax1.plot(epoch_list, hist['Train Acc'], label='Train Accuracy')\n",
    "    ax1.plot(epoch_list, hist['Val Acc'], label='Validation Accuracy')\n",
    "\n",
    "    ax1.set_xticks(np.arange(0, n+1,5))\n",
    "    ax1.set_ylabel('Accuracy Value')\n",
    "    ax1.set_xlabel('Epoch')\n",
    "    ax1.set_title('Accuracy')\n",
    "    l1 = ax1.legend(loc=\"best\")\n",
    "\n",
    "    ax2.plot(epoch_list, hist['Train Err'], label='Train Loss')\n",
    "    ax2.plot(epoch_list, hist['Val Err'], label='Validation Loss')\n",
    "    ax2.set_xticks(np.arange(0, n+1,5))\n",
    "    ax2.set_ylabel('Loss Value')\n",
    "    ax2.set_xlabel('Epoch')\n",
    "    ax2.set_title('Loss')\n",
    "    l2 = ax2.legend(loc=\"best\")"
   ]
  },
  {
   "cell_type": "code",
   "execution_count": 13,
   "metadata": {},
   "outputs": [
    {
     "name": "stdout",
     "output_type": "stream",
     "text": [
      "X_train shape: (94542, 1, 32, 32)\n",
      "X_test shape: (31515, 1, 32, 32)\n",
      "y_train shape: (94542, 2)\n",
      "y_test shape: (31515, 2)\n",
      "X_val shape: (31515, 1, 32, 32)\n",
      "y val shape: (31515, 2)\n"
     ]
    }
   ],
   "source": [
    "IMG_SIZE = 32\n",
    "\n",
    "X_train, X_test, X_val, y_train, y_test, y_val = pre_processing(img_size=IMG_SIZE, bgr = False)\n",
    "\n",
    "X_train, X_test = X_train.reshape(-1, 1, IMG_SIZE, IMG_SIZE), X_test.reshape(-1, 1, IMG_SIZE, IMG_SIZE)\n",
    "X_val = X_val.reshape(-1, 1, IMG_SIZE, IMG_SIZE)\n",
    "\n",
    "describe_data_shape()"
   ]
  },
  {
   "cell_type": "code",
   "execution_count": 14,
   "metadata": {},
   "outputs": [],
   "source": [
    "y_train = y_train.reshape(len(y_train), 2, 1)\n",
    "y_test = y_test.reshape(len(y_test), 2, 1)\n",
    "y_val = y_val.reshape(len(y_val), 2, 1)"
   ]
  },
  {
   "cell_type": "markdown",
   "metadata": {},
   "source": [
    "### CNN model with sigmoid activation"
   ]
  },
  {
   "cell_type": "code",
   "execution_count": 15,
   "metadata": {},
   "outputs": [],
   "source": [
    "network1 = [\n",
    "    Convolutional((1, 32, 32), 3, 3),\n",
    "    Sigmoid(),\n",
    "    Convolutional((3, 30, 30), 3, 3),\n",
    "    Sigmoid(),\n",
    "    Convolutional((3, 28, 28), 3, 3),\n",
    "    Sigmoid(),\n",
    "    Reshape((3, 26, 26), (3 * 26 * 26, 1)),\n",
    "    dense(3 * 26 * 26, 512),\n",
    "    Sigmoid(),\n",
    "    dense(512, 128),\n",
    "    Sigmoid(),\n",
    "    dense(128, 2),\n",
    "    Sigmoid()\n",
    "]"
   ]
  },
  {
   "cell_type": "code",
   "execution_count": 16,
   "metadata": {
    "scrolled": true
   },
   "outputs": [
    {
     "name": "stderr",
     "output_type": "stream",
     "text": [
      "\r",
      "  0%|          | 0/94542 [00:00<?, ?it/s]"
     ]
    },
    {
     "name": "stdout",
     "output_type": "stream",
     "text": [
      "Epoch : 1/20\n"
     ]
    },
    {
     "name": "stderr",
     "output_type": "stream",
     "text": [
      "100%|██████████| 94542/94542 [23:42<00:00, 66.48it/s]\n"
     ]
    },
    {
     "name": "stdout",
     "output_type": "stream",
     "text": [
      "\tTraining: \tAcc:84.17528717395443, \terror: 0.3720739754874374\n"
     ]
    },
    {
     "name": "stderr",
     "output_type": "stream",
     "text": [
      "  0%|          | 9/94542 [00:00<19:16, 81.75it/s]"
     ]
    },
    {
     "name": "stdout",
     "output_type": "stream",
     "text": [
      "\tValidation: \tAcc:83.5411708710138, \terror: 0.36894738513077274\n",
      "Epoch : 2/20\n"
     ]
    },
    {
     "name": "stderr",
     "output_type": "stream",
     "text": [
      "100%|██████████| 94542/94542 [23:20<00:00, 67.49it/s]\n"
     ]
    },
    {
     "name": "stdout",
     "output_type": "stream",
     "text": [
      "\tTraining: \tAcc:84.19538406210997, \terror: 0.36335898533857625\n"
     ]
    },
    {
     "name": "stderr",
     "output_type": "stream",
     "text": [
      "  0%|          | 5/94542 [00:00<33:50, 46.55it/s]"
     ]
    },
    {
     "name": "stdout",
     "output_type": "stream",
     "text": [
      "\tValidation: \tAcc:83.31588132635252, \terror: 0.3688812881600876\n",
      "Epoch : 3/20\n"
     ]
    },
    {
     "name": "stderr",
     "output_type": "stream",
     "text": [
      "100%|██████████| 94542/94542 [22:50<00:00, 69.00it/s]\n"
     ]
    },
    {
     "name": "stdout",
     "output_type": "stream",
     "text": [
      "\tTraining: \tAcc:84.21336548835438, \terror: 0.36157042171290377\n"
     ]
    },
    {
     "name": "stderr",
     "output_type": "stream",
     "text": [
      "  0%|          | 9/94542 [00:00<19:19, 81.53it/s]"
     ]
    },
    {
     "name": "stdout",
     "output_type": "stream",
     "text": [
      "\tValidation: \tAcc:82.88116769792163, \terror: 0.3695667438980841\n",
      "Epoch : 4/20\n"
     ]
    },
    {
     "name": "stderr",
     "output_type": "stream",
     "text": [
      "100%|██████████| 94542/94542 [22:46<00:00, 69.17it/s]\n"
     ]
    },
    {
     "name": "stdout",
     "output_type": "stream",
     "text": [
      "\tTraining: \tAcc:84.20701910262106, \terror: 0.3604345129325301\n"
     ]
    },
    {
     "name": "stderr",
     "output_type": "stream",
     "text": [
      "  0%|          | 7/94542 [00:00<23:01, 68.43it/s]"
     ]
    },
    {
     "name": "stdout",
     "output_type": "stream",
     "text": [
      "\tValidation: \tAcc:83.62684435982865, \terror: 0.36428393539285764\n",
      "Epoch : 5/20\n"
     ]
    },
    {
     "name": "stderr",
     "output_type": "stream",
     "text": [
      "100%|██████████| 94542/94542 [22:50<00:00, 68.97it/s]\n"
     ]
    },
    {
     "name": "stdout",
     "output_type": "stream",
     "text": [
      "\tTraining: \tAcc:84.26625203613209, \terror: 0.3605129431953349\n"
     ]
    },
    {
     "name": "stderr",
     "output_type": "stream",
     "text": [
      "  0%|          | 6/94542 [00:00<26:23, 59.68it/s]"
     ]
    },
    {
     "name": "stdout",
     "output_type": "stream",
     "text": [
      "\tValidation: \tAcc:83.88069173409488, \terror: 0.3634106707328196\n",
      "Epoch : 6/20\n"
     ]
    },
    {
     "name": "stderr",
     "output_type": "stream",
     "text": [
      "100%|██████████| 94542/94542 [22:51<00:00, 68.94it/s]\n"
     ]
    },
    {
     "name": "stdout",
     "output_type": "stream",
     "text": [
      "\tTraining: \tAcc:84.28106026950985, \terror: 0.3591291395472942\n"
     ]
    },
    {
     "name": "stderr",
     "output_type": "stream",
     "text": [
      "  0%|          | 5/94542 [00:00<34:30, 45.66it/s]"
     ]
    },
    {
     "name": "stdout",
     "output_type": "stream",
     "text": [
      "\tValidation: \tAcc:83.58876725368872, \terror: 0.36261512640991156\n",
      "Epoch : 7/20\n"
     ]
    },
    {
     "name": "stderr",
     "output_type": "stream",
     "text": [
      "100%|██████████| 94542/94542 [23:10<00:00, 67.98it/s]\n"
     ]
    },
    {
     "name": "stdout",
     "output_type": "stream",
     "text": [
      "\tTraining: \tAcc:84.28846438619873, \terror: 0.35827286577435646\n"
     ]
    },
    {
     "name": "stderr",
     "output_type": "stream",
     "text": [
      "  0%|          | 5/94542 [00:00<33:38, 46.85it/s]"
     ]
    },
    {
     "name": "stdout",
     "output_type": "stream",
     "text": [
      "\tValidation: \tAcc:83.83626844359829, \terror: 0.36253292879638443\n",
      "Epoch : 8/20\n"
     ]
    },
    {
     "name": "stderr",
     "output_type": "stream",
     "text": [
      "100%|██████████| 94542/94542 [22:43<00:00, 69.34it/s]\n"
     ]
    },
    {
     "name": "stdout",
     "output_type": "stream",
     "text": [
      "\tTraining: \tAcc:84.23769330033213, \terror: 0.357626024961311\n"
     ]
    },
    {
     "name": "stderr",
     "output_type": "stream",
     "text": [
      "  0%|          | 5/94542 [00:00<33:59, 46.36it/s]"
     ]
    },
    {
     "name": "stdout",
     "output_type": "stream",
     "text": [
      "\tValidation: \tAcc:83.46184356655561, \terror: 0.36355703527867983\n",
      "Epoch : 9/20\n"
     ]
    },
    {
     "name": "stderr",
     "output_type": "stream",
     "text": [
      "100%|██████████| 94542/94542 [22:56<00:00, 68.67it/s]\n"
     ]
    },
    {
     "name": "stdout",
     "output_type": "stream",
     "text": [
      "\tTraining: \tAcc:84.32654270059868, \terror: 0.35736819806799774\n"
     ]
    },
    {
     "name": "stderr",
     "output_type": "stream",
     "text": [
      "  0%|          | 6/94542 [00:00<28:12, 55.86it/s]"
     ]
    },
    {
     "name": "stdout",
     "output_type": "stream",
     "text": [
      "\tValidation: \tAcc:84.28050134856417, \terror: 0.3612630880343621\n",
      "Epoch : 10/20\n"
     ]
    },
    {
     "name": "stderr",
     "output_type": "stream",
     "text": [
      "100%|██████████| 94542/94542 [21:11<00:00, 74.33it/s] \n"
     ]
    },
    {
     "name": "stdout",
     "output_type": "stream",
     "text": [
      "\tTraining: \tAcc:84.33817774110977, \terror: 0.3566751973094763\n"
     ]
    },
    {
     "name": "stderr",
     "output_type": "stream",
     "text": [
      "  0%|          | 7/94542 [00:00<23:35, 66.78it/s]"
     ]
    },
    {
     "name": "stdout",
     "output_type": "stream",
     "text": [
      "\tValidation: \tAcc:84.17578930667936, \terror: 0.36392678665612055\n",
      "Epoch : 11/20\n"
     ]
    },
    {
     "name": "stderr",
     "output_type": "stream",
     "text": [
      "100%|██████████| 94542/94542 [22:48<00:00, 69.07it/s]\n"
     ]
    },
    {
     "name": "stdout",
     "output_type": "stream",
     "text": [
      "\tTraining: \tAcc:84.3350045482431, \terror: 0.3560820130543874\n"
     ]
    },
    {
     "name": "stderr",
     "output_type": "stream",
     "text": [
      "  0%|          | 5/94542 [00:00<35:30, 44.37it/s]"
     ]
    },
    {
     "name": "stdout",
     "output_type": "stream",
     "text": [
      "\tValidation: \tAcc:84.01713469776297, \terror: 0.3642195353851132\n",
      "Epoch : 12/20\n"
     ]
    },
    {
     "name": "stderr",
     "output_type": "stream",
     "text": [
      "100%|██████████| 94542/94542 [22:33<00:00, 69.87it/s]\n"
     ]
    },
    {
     "name": "stdout",
     "output_type": "stream",
     "text": [
      "\tTraining: \tAcc:84.28317573142095, \terror: 0.35619903688310406\n"
     ]
    },
    {
     "name": "stderr",
     "output_type": "stream",
     "text": [
      "  0%|          | 7/94542 [00:00<22:58, 68.56it/s]"
     ]
    },
    {
     "name": "stdout",
     "output_type": "stream",
     "text": [
      "\tValidation: \tAcc:84.01713469776297, \terror: 0.3619863070196377\n",
      "Epoch : 13/20\n"
     ]
    },
    {
     "name": "stderr",
     "output_type": "stream",
     "text": [
      "100%|██████████| 94542/94542 [22:58<00:00, 68.56it/s]\n"
     ]
    },
    {
     "name": "stdout",
     "output_type": "stream",
     "text": [
      "\tTraining: \tAcc:84.29057984810983, \terror: 0.3556512634932908\n"
     ]
    },
    {
     "name": "stderr",
     "output_type": "stream",
     "text": [
      "  0%|          | 5/94542 [00:00<33:06, 47.58it/s]"
     ]
    },
    {
     "name": "stdout",
     "output_type": "stream",
     "text": [
      "\tValidation: \tAcc:84.35982865302238, \terror: 0.36021905517651487\n",
      "Epoch : 14/20\n"
     ]
    },
    {
     "name": "stderr",
     "output_type": "stream",
     "text": [
      "100%|██████████| 94542/94542 [22:36<00:00, 69.68it/s]\n"
     ]
    },
    {
     "name": "stdout",
     "output_type": "stream",
     "text": [
      "\tTraining: \tAcc:84.29057984810983, \terror: 0.35546780945642203\n"
     ]
    },
    {
     "name": "stderr",
     "output_type": "stream",
     "text": [
      "  0%|          | 8/94542 [00:00<22:02, 71.50it/s]"
     ]
    },
    {
     "name": "stdout",
     "output_type": "stream",
     "text": [
      "\tValidation: \tAcc:83.62684435982865, \terror: 0.3631553222633598\n",
      "Epoch : 15/20\n"
     ]
    },
    {
     "name": "stderr",
     "output_type": "stream",
     "text": [
      "100%|██████████| 94542/94542 [22:44<00:00, 69.30it/s]\n"
     ]
    },
    {
     "name": "stdout",
     "output_type": "stream",
     "text": [
      "\tTraining: \tAcc:84.33923547206533, \terror: 0.35538719790926193\n"
     ]
    },
    {
     "name": "stderr",
     "output_type": "stream",
     "text": [
      "  0%|          | 7/94542 [00:00<23:53, 65.93it/s]"
     ]
    },
    {
     "name": "stdout",
     "output_type": "stream",
     "text": [
      "\tValidation: \tAcc:84.23290496588926, \terror: 0.3606515658612492\n",
      "Epoch : 16/20\n"
     ]
    },
    {
     "name": "stderr",
     "output_type": "stream",
     "text": [
      "100%|██████████| 94542/94542 [22:42<00:00, 69.41it/s]\n"
     ]
    },
    {
     "name": "stdout",
     "output_type": "stream",
     "text": [
      "\tTraining: \tAcc:84.35615916735419, \terror: 0.35442347231652244\n"
     ]
    },
    {
     "name": "stderr",
     "output_type": "stream",
     "text": [
      "  0%|          | 8/94542 [00:00<21:14, 74.19it/s]"
     ]
    },
    {
     "name": "stdout",
     "output_type": "stream",
     "text": [
      "\tValidation: \tAcc:84.20117404410598, \terror: 0.36034589982380877\n",
      "Epoch : 17/20\n"
     ]
    },
    {
     "name": "stderr",
     "output_type": "stream",
     "text": [
      "100%|██████████| 94542/94542 [22:58<00:00, 68.59it/s]\n"
     ]
    },
    {
     "name": "stdout",
     "output_type": "stream",
     "text": [
      "\tTraining: \tAcc:84.31067673626536, \terror: 0.3540298728552837\n"
     ]
    },
    {
     "name": "stderr",
     "output_type": "stream",
     "text": [
      "  0%|          | 8/94542 [00:00<20:01, 78.67it/s]"
     ]
    },
    {
     "name": "stdout",
     "output_type": "stream",
     "text": [
      "\tValidation: \tAcc:83.96636522290973, \terror: 0.36287677563882326\n",
      "Epoch : 18/20\n"
     ]
    },
    {
     "name": "stderr",
     "output_type": "stream",
     "text": [
      "100%|██████████| 94542/94542 [17:44<00:00, 88.78it/s] \n"
     ]
    },
    {
     "name": "stdout",
     "output_type": "stream",
     "text": [
      "\tTraining: \tAcc:84.36567874595418, \terror: 0.35356871572589044\n"
     ]
    },
    {
     "name": "stderr",
     "output_type": "stream",
     "text": [
      "  0%|          | 12/94542 [00:00<13:16, 118.75it/s]"
     ]
    },
    {
     "name": "stdout",
     "output_type": "stream",
     "text": [
      "\tValidation: \tAcc:84.23607805806759, \terror: 0.36250328725460723\n",
      "Epoch : 19/20\n"
     ]
    },
    {
     "name": "stderr",
     "output_type": "stream",
     "text": [
      "100%|██████████| 94542/94542 [20:34<00:00, 76.61it/s] \n"
     ]
    },
    {
     "name": "stdout",
     "output_type": "stream",
     "text": [
      "\tTraining: \tAcc:84.37837151742083, \terror: 0.35307957431025655\n"
     ]
    },
    {
     "name": "stderr",
     "output_type": "stream",
     "text": [
      "  0%|          | 7/94542 [00:00<23:54, 65.92it/s]"
     ]
    },
    {
     "name": "stdout",
     "output_type": "stream",
     "text": [
      "\tValidation: \tAcc:84.09646200222116, \terror: 0.36249666292914884\n",
      "Epoch : 20/20\n"
     ]
    },
    {
     "name": "stderr",
     "output_type": "stream",
     "text": [
      "100%|██████████| 94542/94542 [22:45<00:00, 69.22it/s]\n"
     ]
    },
    {
     "name": "stdout",
     "output_type": "stream",
     "text": [
      "\tTraining: \tAcc:84.37519832455416, \terror: 0.3528646208433464\n",
      "\tValidation: \tAcc:83.98540377597969, \terror: 0.3638114796910004\n"
     ]
    }
   ],
   "source": [
    "# train\n",
    "hist1 = train(\n",
    "    network1,\n",
    "    binary_cross_entropy,\n",
    "    binary_cross_entropy_prime,\n",
    "    X_train,\n",
    "    y_train,\n",
    "    X_val,\n",
    "    y_val,\n",
    "    epochs=20,\n",
    "    learning_rate=0.01\n",
    ")"
   ]
  },
  {
   "cell_type": "code",
   "execution_count": 17,
   "metadata": {},
   "outputs": [
    {
     "data": {
      "text/html": [
       "<div>\n",
       "<style scoped>\n",
       "    .dataframe tbody tr th:only-of-type {\n",
       "        vertical-align: middle;\n",
       "    }\n",
       "\n",
       "    .dataframe tbody tr th {\n",
       "        vertical-align: top;\n",
       "    }\n",
       "\n",
       "    .dataframe thead th {\n",
       "        text-align: right;\n",
       "    }\n",
       "</style>\n",
       "<table border=\"1\" class=\"dataframe\">\n",
       "  <thead>\n",
       "    <tr style=\"text-align: right;\">\n",
       "      <th></th>\n",
       "      <th>Epoch</th>\n",
       "      <th>Train Acc</th>\n",
       "      <th>Val Acc</th>\n",
       "      <th>Train Err</th>\n",
       "      <th>Val Err</th>\n",
       "    </tr>\n",
       "  </thead>\n",
       "  <tbody>\n",
       "    <tr>\n",
       "      <th>0</th>\n",
       "      <td>1</td>\n",
       "      <td>84.175287</td>\n",
       "      <td>83.541171</td>\n",
       "      <td>0.372074</td>\n",
       "      <td>0.368947</td>\n",
       "    </tr>\n",
       "    <tr>\n",
       "      <th>1</th>\n",
       "      <td>2</td>\n",
       "      <td>84.195384</td>\n",
       "      <td>83.315881</td>\n",
       "      <td>0.363359</td>\n",
       "      <td>0.368881</td>\n",
       "    </tr>\n",
       "    <tr>\n",
       "      <th>2</th>\n",
       "      <td>3</td>\n",
       "      <td>84.213365</td>\n",
       "      <td>82.881168</td>\n",
       "      <td>0.361570</td>\n",
       "      <td>0.369567</td>\n",
       "    </tr>\n",
       "    <tr>\n",
       "      <th>3</th>\n",
       "      <td>4</td>\n",
       "      <td>84.207019</td>\n",
       "      <td>83.626844</td>\n",
       "      <td>0.360435</td>\n",
       "      <td>0.364284</td>\n",
       "    </tr>\n",
       "    <tr>\n",
       "      <th>4</th>\n",
       "      <td>5</td>\n",
       "      <td>84.266252</td>\n",
       "      <td>83.880692</td>\n",
       "      <td>0.360513</td>\n",
       "      <td>0.363411</td>\n",
       "    </tr>\n",
       "    <tr>\n",
       "      <th>5</th>\n",
       "      <td>6</td>\n",
       "      <td>84.281060</td>\n",
       "      <td>83.588767</td>\n",
       "      <td>0.359129</td>\n",
       "      <td>0.362615</td>\n",
       "    </tr>\n",
       "    <tr>\n",
       "      <th>6</th>\n",
       "      <td>7</td>\n",
       "      <td>84.288464</td>\n",
       "      <td>83.836268</td>\n",
       "      <td>0.358273</td>\n",
       "      <td>0.362533</td>\n",
       "    </tr>\n",
       "    <tr>\n",
       "      <th>7</th>\n",
       "      <td>8</td>\n",
       "      <td>84.237693</td>\n",
       "      <td>83.461844</td>\n",
       "      <td>0.357626</td>\n",
       "      <td>0.363557</td>\n",
       "    </tr>\n",
       "    <tr>\n",
       "      <th>8</th>\n",
       "      <td>9</td>\n",
       "      <td>84.326543</td>\n",
       "      <td>84.280501</td>\n",
       "      <td>0.357368</td>\n",
       "      <td>0.361263</td>\n",
       "    </tr>\n",
       "    <tr>\n",
       "      <th>9</th>\n",
       "      <td>10</td>\n",
       "      <td>84.338178</td>\n",
       "      <td>84.175789</td>\n",
       "      <td>0.356675</td>\n",
       "      <td>0.363927</td>\n",
       "    </tr>\n",
       "    <tr>\n",
       "      <th>10</th>\n",
       "      <td>11</td>\n",
       "      <td>84.335005</td>\n",
       "      <td>84.017135</td>\n",
       "      <td>0.356082</td>\n",
       "      <td>0.364220</td>\n",
       "    </tr>\n",
       "    <tr>\n",
       "      <th>11</th>\n",
       "      <td>12</td>\n",
       "      <td>84.283176</td>\n",
       "      <td>84.017135</td>\n",
       "      <td>0.356199</td>\n",
       "      <td>0.361986</td>\n",
       "    </tr>\n",
       "    <tr>\n",
       "      <th>12</th>\n",
       "      <td>13</td>\n",
       "      <td>84.290580</td>\n",
       "      <td>84.359829</td>\n",
       "      <td>0.355651</td>\n",
       "      <td>0.360219</td>\n",
       "    </tr>\n",
       "    <tr>\n",
       "      <th>13</th>\n",
       "      <td>14</td>\n",
       "      <td>84.290580</td>\n",
       "      <td>83.626844</td>\n",
       "      <td>0.355468</td>\n",
       "      <td>0.363155</td>\n",
       "    </tr>\n",
       "    <tr>\n",
       "      <th>14</th>\n",
       "      <td>15</td>\n",
       "      <td>84.339235</td>\n",
       "      <td>84.232905</td>\n",
       "      <td>0.355387</td>\n",
       "      <td>0.360652</td>\n",
       "    </tr>\n",
       "    <tr>\n",
       "      <th>15</th>\n",
       "      <td>16</td>\n",
       "      <td>84.356159</td>\n",
       "      <td>84.201174</td>\n",
       "      <td>0.354423</td>\n",
       "      <td>0.360346</td>\n",
       "    </tr>\n",
       "    <tr>\n",
       "      <th>16</th>\n",
       "      <td>17</td>\n",
       "      <td>84.310677</td>\n",
       "      <td>83.966365</td>\n",
       "      <td>0.354030</td>\n",
       "      <td>0.362877</td>\n",
       "    </tr>\n",
       "    <tr>\n",
       "      <th>17</th>\n",
       "      <td>18</td>\n",
       "      <td>84.365679</td>\n",
       "      <td>84.236078</td>\n",
       "      <td>0.353569</td>\n",
       "      <td>0.362503</td>\n",
       "    </tr>\n",
       "    <tr>\n",
       "      <th>18</th>\n",
       "      <td>19</td>\n",
       "      <td>84.378372</td>\n",
       "      <td>84.096462</td>\n",
       "      <td>0.353080</td>\n",
       "      <td>0.362497</td>\n",
       "    </tr>\n",
       "    <tr>\n",
       "      <th>19</th>\n",
       "      <td>20</td>\n",
       "      <td>84.375198</td>\n",
       "      <td>83.985404</td>\n",
       "      <td>0.352865</td>\n",
       "      <td>0.363811</td>\n",
       "    </tr>\n",
       "  </tbody>\n",
       "</table>\n",
       "</div>"
      ],
      "text/plain": [
       "    Epoch  Train Acc    Val Acc  Train Err   Val Err\n",
       "0       1  84.175287  83.541171   0.372074  0.368947\n",
       "1       2  84.195384  83.315881   0.363359  0.368881\n",
       "2       3  84.213365  82.881168   0.361570  0.369567\n",
       "3       4  84.207019  83.626844   0.360435  0.364284\n",
       "4       5  84.266252  83.880692   0.360513  0.363411\n",
       "5       6  84.281060  83.588767   0.359129  0.362615\n",
       "6       7  84.288464  83.836268   0.358273  0.362533\n",
       "7       8  84.237693  83.461844   0.357626  0.363557\n",
       "8       9  84.326543  84.280501   0.357368  0.361263\n",
       "9      10  84.338178  84.175789   0.356675  0.363927\n",
       "10     11  84.335005  84.017135   0.356082  0.364220\n",
       "11     12  84.283176  84.017135   0.356199  0.361986\n",
       "12     13  84.290580  84.359829   0.355651  0.360219\n",
       "13     14  84.290580  83.626844   0.355468  0.363155\n",
       "14     15  84.339235  84.232905   0.355387  0.360652\n",
       "15     16  84.356159  84.201174   0.354423  0.360346\n",
       "16     17  84.310677  83.966365   0.354030  0.362877\n",
       "17     18  84.365679  84.236078   0.353569  0.362503\n",
       "18     19  84.378372  84.096462   0.353080  0.362497\n",
       "19     20  84.375198  83.985404   0.352865  0.363811"
      ]
     },
     "execution_count": 17,
     "metadata": {},
     "output_type": "execute_result"
    },
    {
     "data": {
      "image/png": "[encoded data removed]",
      "text/plain": [
       "<Figure size 1080x360 with 2 Axes>"
      ]
     },
     "metadata": {
      "needs_background": "light"
     },
     "output_type": "display_data"
    }
   ],
   "source": [
    "plot_accuracy_loss_CNN(hist1, title_fig = 'CNN Performance with Sigmoid')\n",
    "hist1"
   ]
  },
  {
   "cell_type": "code",
   "execution_count": 19,
   "metadata": {},
   "outputs": [
    {
     "name": "stdout",
     "output_type": "stream",
     "text": [
      "Test accuracy: 83.80136442963668\n"
     ]
    },
    {
     "data": {
      "image/png": "[encoded data removed]",
      "text/plain": [
       "<Figure size 360x288 with 2 Axes>"
      ]
     },
     "metadata": {
      "needs_background": "light"
     },
     "output_type": "display_data"
    }
   ],
   "source": [
    "Display_prediction_results(network1, X_test, y_test)"
   ]
  },
  {
   "cell_type": "code",
   "execution_count": null,
   "metadata": {},
   "outputs": [],
   "source": []
  },
  {
   "cell_type": "code",
   "execution_count": null,
   "metadata": {},
   "outputs": [],
   "source": []
  },
  {
   "cell_type": "code",
   "execution_count": null,
   "metadata": {},
   "outputs": [],
   "source": []
  },
  {
   "cell_type": "code",
   "execution_count": null,
   "metadata": {},
   "outputs": [],
   "source": []
  },
  {
   "cell_type": "code",
   "execution_count": null,
   "metadata": {},
   "outputs": [],
   "source": []
  },
  {
   "cell_type": "markdown",
   "metadata": {},
   "source": [
    "### CNN model with relu activation"
   ]
  },
  {
   "cell_type": "code",
   "execution_count": 22,
   "metadata": {},
   "outputs": [],
   "source": [
    "network2 = [\n",
    "    Convolutional((1, 32, 32), 3, 5),\n",
    "    Relu(),\n",
    "    Convolutional((5, 30, 30), 3, 8),\n",
    "    Relu(),\n",
    "    Reshape((8, 28, 28), (8 * 28 * 28, 1)),\n",
    "    dense(8 * 28 * 28, 64),\n",
    "    Relu(),\n",
    "    dense(64, 2),\n",
    "    Softmax(),\n",
    "]"
   ]
  },
  {
   "cell_type": "code",
   "execution_count": 23,
   "metadata": {
    "scrolled": true
   },
   "outputs": [
    {
     "name": "stderr",
     "output_type": "stream",
     "text": [
      "  0%|          | 1/94542 [00:00<3:25:37,  7.66it/s]"
     ]
    },
    {
     "name": "stdout",
     "output_type": "stream",
     "text": [
      "Epoch : 1/50\n"
     ]
    },
    {
     "name": "stderr",
     "output_type": "stream",
     "text": [
      "100%|██████████| 94542/94542 [32:24<00:00, 48.61it/s] \n"
     ]
    },
    {
     "name": "stdout",
     "output_type": "stream",
     "text": [
      "\tTraining: \tAcc:84.70732584459817, \terror: nan\n"
     ]
    },
    {
     "name": "stderr",
     "output_type": "stream",
     "text": [
      "  0%|          | 2/94542 [00:00<1:21:56, 19.23it/s]"
     ]
    },
    {
     "name": "stdout",
     "output_type": "stream",
     "text": [
      "\tValidation: \tAcc:84.66761859432016, \terror: nan\n",
      "Epoch : 2/50\n"
     ]
    },
    {
     "name": "stderr",
     "output_type": "stream",
     "text": [
      "100%|██████████| 94542/94542 [31:25<00:00, 50.14it/s] \n"
     ]
    },
    {
     "name": "stdout",
     "output_type": "stream",
     "text": [
      "\tTraining: \tAcc:84.70626811364261, \terror: nan\n"
     ]
    },
    {
     "name": "stderr",
     "output_type": "stream",
     "text": [
      "  0%|          | 3/94542 [00:00<59:46, 26.36it/s]"
     ]
    },
    {
     "name": "stdout",
     "output_type": "stream",
     "text": [
      "\tValidation: \tAcc:84.66761859432016, \terror: nan\n",
      "Epoch : 3/50\n"
     ]
    },
    {
     "name": "stderr",
     "output_type": "stream",
     "text": [
      "100%|██████████| 94542/94542 [29:47<00:00, 52.89it/s] \n"
     ]
    },
    {
     "name": "stdout",
     "output_type": "stream",
     "text": [
      "\tTraining: \tAcc:84.70626811364261, \terror: nan\n"
     ]
    },
    {
     "name": "stderr",
     "output_type": "stream",
     "text": [
      "  0%|          | 3/94542 [00:00<56:10, 28.05it/s]"
     ]
    },
    {
     "name": "stdout",
     "output_type": "stream",
     "text": [
      "\tValidation: \tAcc:84.66761859432016, \terror: nan\n",
      "Epoch : 4/50\n"
     ]
    },
    {
     "name": "stderr",
     "output_type": "stream",
     "text": [
      "100%|██████████| 94542/94542 [29:33<00:00, 53.32it/s] \n"
     ]
    },
    {
     "name": "stdout",
     "output_type": "stream",
     "text": [
      "\tTraining: \tAcc:84.70626811364261, \terror: nan\n"
     ]
    },
    {
     "name": "stderr",
     "output_type": "stream",
     "text": [
      "  0%|          | 2/94542 [00:00<1:26:24, 18.23it/s]"
     ]
    },
    {
     "name": "stdout",
     "output_type": "stream",
     "text": [
      "\tValidation: \tAcc:84.66761859432016, \terror: nan\n",
      "Epoch : 5/50\n"
     ]
    },
    {
     "name": "stderr",
     "output_type": "stream",
     "text": [
      "100%|██████████| 94542/94542 [29:05<00:00, 54.17it/s]\n"
     ]
    },
    {
     "name": "stdout",
     "output_type": "stream",
     "text": [
      "\tTraining: \tAcc:84.70626811364261, \terror: nan\n"
     ]
    },
    {
     "name": "stderr",
     "output_type": "stream",
     "text": [
      "  0%|          | 1/94542 [00:00<4:23:16,  5.98it/s]"
     ]
    },
    {
     "name": "stdout",
     "output_type": "stream",
     "text": [
      "\tValidation: \tAcc:84.66761859432016, \terror: nan\n",
      "Epoch : 6/50\n"
     ]
    },
    {
     "name": "stderr",
     "output_type": "stream",
     "text": [
      "100%|██████████| 94542/94542 [29:15<00:00, 53.87it/s]\n"
     ]
    },
    {
     "name": "stdout",
     "output_type": "stream",
     "text": [
      "\tTraining: \tAcc:84.70626811364261, \terror: nan\n"
     ]
    },
    {
     "name": "stderr",
     "output_type": "stream",
     "text": [
      "  0%|          | 1/94542 [00:00<2:43:42,  9.63it/s]"
     ]
    },
    {
     "name": "stdout",
     "output_type": "stream",
     "text": [
      "\tValidation: \tAcc:84.66761859432016, \terror: nan\n",
      "Epoch : 7/50\n"
     ]
    },
    {
     "name": "stderr",
     "output_type": "stream",
     "text": [
      "100%|██████████| 94542/94542 [29:34<00:00, 53.29it/s]\n"
     ]
    },
    {
     "name": "stdout",
     "output_type": "stream",
     "text": [
      "\tTraining: \tAcc:84.70626811364261, \terror: nan\n"
     ]
    },
    {
     "name": "stderr",
     "output_type": "stream",
     "text": [
      "  0%|          | 2/94542 [00:00<1:25:44, 18.38it/s]"
     ]
    },
    {
     "name": "stdout",
     "output_type": "stream",
     "text": [
      "\tValidation: \tAcc:84.66761859432016, \terror: nan\n",
      "Epoch : 8/50\n"
     ]
    },
    {
     "name": "stderr",
     "output_type": "stream",
     "text": [
      "100%|██████████| 94542/94542 [29:11<00:00, 53.99it/s]\n"
     ]
    },
    {
     "name": "stdout",
     "output_type": "stream",
     "text": [
      "\tTraining: \tAcc:84.70626811364261, \terror: nan\n"
     ]
    },
    {
     "name": "stderr",
     "output_type": "stream",
     "text": [
      "  0%|          | 2/94542 [00:00<1:30:01, 17.50it/s]"
     ]
    },
    {
     "name": "stdout",
     "output_type": "stream",
     "text": [
      "\tValidation: \tAcc:84.66761859432016, \terror: nan\n",
      "Epoch : 9/50\n"
     ]
    },
    {
     "name": "stderr",
     "output_type": "stream",
     "text": [
      "100%|██████████| 94542/94542 [29:14<00:00, 53.88it/s]\n"
     ]
    },
    {
     "name": "stdout",
     "output_type": "stream",
     "text": [
      "\tTraining: \tAcc:84.70626811364261, \terror: nan\n"
     ]
    },
    {
     "name": "stderr",
     "output_type": "stream",
     "text": [
      "  0%|          | 2/94542 [00:00<1:34:42, 16.64it/s]"
     ]
    },
    {
     "name": "stdout",
     "output_type": "stream",
     "text": [
      "\tValidation: \tAcc:84.66761859432016, \terror: nan\n",
      "Epoch : 10/50\n"
     ]
    },
    {
     "name": "stderr",
     "output_type": "stream",
     "text": [
      "100%|██████████| 94542/94542 [29:24<00:00, 53.58it/s]\n"
     ]
    },
    {
     "name": "stdout",
     "output_type": "stream",
     "text": [
      "\tTraining: \tAcc:84.70626811364261, \terror: nan\n"
     ]
    },
    {
     "name": "stderr",
     "output_type": "stream",
     "text": [
      "  0%|          | 3/94542 [00:00<1:00:47, 25.92it/s]"
     ]
    },
    {
     "name": "stdout",
     "output_type": "stream",
     "text": [
      "\tValidation: \tAcc:84.66761859432016, \terror: nan\n",
      "Epoch : 11/50\n"
     ]
    },
    {
     "name": "stderr",
     "output_type": "stream",
     "text": [
      "100%|██████████| 94542/94542 [24:05<00:00, 65.42it/s] \n"
     ]
    },
    {
     "name": "stdout",
     "output_type": "stream",
     "text": [
      "\tTraining: \tAcc:84.70626811364261, \terror: nan\n"
     ]
    },
    {
     "name": "stderr",
     "output_type": "stream",
     "text": [
      "  0%|          | 9/94542 [00:00<18:05, 87.08it/s]"
     ]
    },
    {
     "name": "stdout",
     "output_type": "stream",
     "text": [
      "\tValidation: \tAcc:84.66761859432016, \terror: nan\n",
      "Epoch : 12/50\n"
     ]
    },
    {
     "name": "stderr",
     "output_type": "stream",
     "text": [
      "100%|██████████| 94542/94542 [21:50<00:00, 72.16it/s] \n"
     ]
    },
    {
     "name": "stdout",
     "output_type": "stream",
     "text": [
      "\tTraining: \tAcc:84.70626811364261, \terror: nan\n"
     ]
    },
    {
     "name": "stderr",
     "output_type": "stream",
     "text": [
      "  0%|          | 3/94542 [00:00<1:12:15, 21.80it/s]"
     ]
    },
    {
     "name": "stdout",
     "output_type": "stream",
     "text": [
      "\tValidation: \tAcc:84.66761859432016, \terror: nan\n",
      "Epoch : 13/50\n"
     ]
    },
    {
     "name": "stderr",
     "output_type": "stream",
     "text": [
      "100%|██████████| 94542/94542 [21:21<00:00, 73.77it/s] \n"
     ]
    },
    {
     "name": "stdout",
     "output_type": "stream",
     "text": [
      "\tTraining: \tAcc:84.70626811364261, \terror: nan\n"
     ]
    },
    {
     "name": "stderr",
     "output_type": "stream",
     "text": [
      "  0%|          | 6/94542 [00:00<26:24, 59.66it/s]"
     ]
    },
    {
     "name": "stdout",
     "output_type": "stream",
     "text": [
      "\tValidation: \tAcc:84.66761859432016, \terror: nan\n",
      "Epoch : 14/50\n"
     ]
    },
    {
     "name": "stderr",
     "output_type": "stream",
     "text": [
      "100%|██████████| 94542/94542 [22:03<00:00, 71.44it/s] \n"
     ]
    },
    {
     "name": "stdout",
     "output_type": "stream",
     "text": [
      "\tTraining: \tAcc:84.70626811364261, \terror: nan\n"
     ]
    },
    {
     "name": "stderr",
     "output_type": "stream",
     "text": [
      "  0%|          | 5/94542 [00:00<32:32, 48.43it/s]"
     ]
    },
    {
     "name": "stdout",
     "output_type": "stream",
     "text": [
      "\tValidation: \tAcc:84.66761859432016, \terror: nan\n",
      "Epoch : 15/50\n"
     ]
    },
    {
     "name": "stderr",
     "output_type": "stream",
     "text": [
      "100%|██████████| 94542/94542 [21:17<00:00, 74.00it/s] \n"
     ]
    },
    {
     "name": "stdout",
     "output_type": "stream",
     "text": [
      "\tTraining: \tAcc:84.70626811364261, \terror: nan\n"
     ]
    },
    {
     "name": "stderr",
     "output_type": "stream",
     "text": [
      "  0%|          | 6/94542 [00:00<27:09, 58.01it/s]"
     ]
    },
    {
     "name": "stdout",
     "output_type": "stream",
     "text": [
      "\tValidation: \tAcc:84.66761859432016, \terror: nan\n",
      "Epoch : 16/50\n"
     ]
    },
    {
     "name": "stderr",
     "output_type": "stream",
     "text": [
      "100%|██████████| 94542/94542 [22:42<00:00, 69.37it/s] \n"
     ]
    },
    {
     "name": "stdout",
     "output_type": "stream",
     "text": [
      "\tTraining: \tAcc:84.70626811364261, \terror: nan\n"
     ]
    },
    {
     "name": "stderr",
     "output_type": "stream",
     "text": [
      "  0%|          | 6/94542 [00:00<27:39, 56.97it/s]"
     ]
    },
    {
     "name": "stdout",
     "output_type": "stream",
     "text": [
      "\tValidation: \tAcc:84.66761859432016, \terror: nan\n",
      "Epoch : 17/50\n"
     ]
    },
    {
     "name": "stderr",
     "output_type": "stream",
     "text": [
      "100%|██████████| 94542/94542 [21:58<00:00, 71.68it/s] \n"
     ]
    },
    {
     "name": "stdout",
     "output_type": "stream",
     "text": [
      "\tTraining: \tAcc:84.70626811364261, \terror: nan\n"
     ]
    },
    {
     "name": "stderr",
     "output_type": "stream",
     "text": [
      "  0%|          | 4/94542 [00:00<42:15, 37.28it/s]"
     ]
    },
    {
     "name": "stdout",
     "output_type": "stream",
     "text": [
      "\tValidation: \tAcc:84.66761859432016, \terror: nan\n",
      "Epoch : 18/50\n"
     ]
    },
    {
     "name": "stderr",
     "output_type": "stream",
     "text": [
      "100%|██████████| 94542/94542 [21:39<00:00, 72.74it/s] \n"
     ]
    },
    {
     "name": "stdout",
     "output_type": "stream",
     "text": [
      "\tTraining: \tAcc:84.70626811364261, \terror: nan\n"
     ]
    },
    {
     "name": "stderr",
     "output_type": "stream",
     "text": [
      "  0%|          | 3/94542 [00:00<54:09, 29.10it/s]"
     ]
    },
    {
     "name": "stdout",
     "output_type": "stream",
     "text": [
      "\tValidation: \tAcc:84.66761859432016, \terror: nan\n",
      "Epoch : 19/50\n"
     ]
    },
    {
     "name": "stderr",
     "output_type": "stream",
     "text": [
      "100%|██████████| 94542/94542 [22:30<00:00, 70.03it/s] \n"
     ]
    },
    {
     "name": "stdout",
     "output_type": "stream",
     "text": [
      "\tTraining: \tAcc:84.70626811364261, \terror: nan\n"
     ]
    },
    {
     "name": "stderr",
     "output_type": "stream",
     "text": [
      "  0%|          | 6/94542 [00:00<26:49, 58.73it/s]"
     ]
    },
    {
     "name": "stdout",
     "output_type": "stream",
     "text": [
      "\tValidation: \tAcc:84.66761859432016, \terror: nan\n",
      "Epoch : 20/50\n"
     ]
    },
    {
     "name": "stderr",
     "output_type": "stream",
     "text": [
      "100%|██████████| 94542/94542 [21:41<00:00, 72.64it/s] \n"
     ]
    },
    {
     "name": "stdout",
     "output_type": "stream",
     "text": [
      "\tTraining: \tAcc:84.70626811364261, \terror: nan\n"
     ]
    },
    {
     "name": "stderr",
     "output_type": "stream",
     "text": [
      "  0%|          | 6/94542 [00:00<28:12, 55.87it/s]"
     ]
    },
    {
     "name": "stdout",
     "output_type": "stream",
     "text": [
      "\tValidation: \tAcc:84.66761859432016, \terror: nan\n",
      "Epoch : 21/50\n"
     ]
    },
    {
     "name": "stderr",
     "output_type": "stream",
     "text": [
      "100%|██████████| 94542/94542 [21:57<00:00, 71.76it/s] \n"
     ]
    },
    {
     "name": "stdout",
     "output_type": "stream",
     "text": [
      "\tTraining: \tAcc:84.70626811364261, \terror: nan\n"
     ]
    },
    {
     "name": "stderr",
     "output_type": "stream",
     "text": [
      "  0%|          | 6/94542 [00:00<27:55, 56.42it/s]"
     ]
    },
    {
     "name": "stdout",
     "output_type": "stream",
     "text": [
      "\tValidation: \tAcc:84.66761859432016, \terror: nan\n",
      "Epoch : 22/50\n"
     ]
    },
    {
     "name": "stderr",
     "output_type": "stream",
     "text": [
      "100%|██████████| 94542/94542 [22:18<00:00, 70.64it/s] \n"
     ]
    },
    {
     "name": "stdout",
     "output_type": "stream",
     "text": [
      "\tTraining: \tAcc:84.70626811364261, \terror: nan\n"
     ]
    },
    {
     "name": "stderr",
     "output_type": "stream",
     "text": [
      "  0%|          | 10/94542 [00:00<16:18, 96.62it/s]"
     ]
    },
    {
     "name": "stdout",
     "output_type": "stream",
     "text": [
      "\tValidation: \tAcc:84.66761859432016, \terror: nan\n",
      "Epoch : 23/50\n"
     ]
    },
    {
     "name": "stderr",
     "output_type": "stream",
     "text": [
      "100%|██████████| 94542/94542 [21:37<00:00, 72.89it/s] \n"
     ]
    },
    {
     "name": "stdout",
     "output_type": "stream",
     "text": [
      "\tTraining: \tAcc:84.70626811364261, \terror: nan\n"
     ]
    },
    {
     "name": "stderr",
     "output_type": "stream",
     "text": [
      "  0%|          | 7/94542 [00:00<24:55, 63.22it/s]"
     ]
    },
    {
     "name": "stdout",
     "output_type": "stream",
     "text": [
      "\tValidation: \tAcc:84.66761859432016, \terror: nan\n",
      "Epoch : 24/50\n"
     ]
    },
    {
     "name": "stderr",
     "output_type": "stream",
     "text": [
      "100%|██████████| 94542/94542 [22:26<00:00, 70.20it/s] \n"
     ]
    },
    {
     "name": "stdout",
     "output_type": "stream",
     "text": [
      "\tTraining: \tAcc:84.70626811364261, \terror: nan\n"
     ]
    },
    {
     "name": "stderr",
     "output_type": "stream",
     "text": [
      "  0%|          | 7/94542 [00:00<25:51, 60.95it/s]"
     ]
    },
    {
     "name": "stdout",
     "output_type": "stream",
     "text": [
      "\tValidation: \tAcc:84.66761859432016, \terror: nan\n",
      "Epoch : 25/50\n"
     ]
    },
    {
     "name": "stderr",
     "output_type": "stream",
     "text": [
      "100%|██████████| 94542/94542 [22:58<00:00, 68.58it/s] \n"
     ]
    },
    {
     "name": "stdout",
     "output_type": "stream",
     "text": [
      "\tTraining: \tAcc:84.70626811364261, \terror: nan\n"
     ]
    },
    {
     "name": "stderr",
     "output_type": "stream",
     "text": [
      "  0%|          | 3/94542 [00:00<55:03, 28.62it/s]"
     ]
    },
    {
     "name": "stdout",
     "output_type": "stream",
     "text": [
      "\tValidation: \tAcc:84.66761859432016, \terror: nan\n",
      "Epoch : 26/50\n"
     ]
    },
    {
     "name": "stderr",
     "output_type": "stream",
     "text": [
      "100%|██████████| 94542/94542 [21:59<00:00, 71.67it/s] \n"
     ]
    },
    {
     "name": "stdout",
     "output_type": "stream",
     "text": [
      "\tTraining: \tAcc:84.70626811364261, \terror: nan\n"
     ]
    },
    {
     "name": "stderr",
     "output_type": "stream",
     "text": [
      "  0%|          | 6/94542 [00:00<27:29, 57.33it/s]"
     ]
    },
    {
     "name": "stdout",
     "output_type": "stream",
     "text": [
      "\tValidation: \tAcc:84.66761859432016, \terror: nan\n",
      "Epoch : 27/50\n"
     ]
    },
    {
     "name": "stderr",
     "output_type": "stream",
     "text": [
      "100%|██████████| 94542/94542 [22:01<00:00, 71.55it/s] \n"
     ]
    },
    {
     "name": "stdout",
     "output_type": "stream",
     "text": [
      "\tTraining: \tAcc:84.70626811364261, \terror: nan\n"
     ]
    },
    {
     "name": "stderr",
     "output_type": "stream",
     "text": [
      "  0%|          | 6/94542 [00:00<26:40, 59.05it/s]"
     ]
    },
    {
     "name": "stdout",
     "output_type": "stream",
     "text": [
      "\tValidation: \tAcc:84.66761859432016, \terror: nan\n",
      "Epoch : 28/50\n"
     ]
    },
    {
     "name": "stderr",
     "output_type": "stream",
     "text": [
      "100%|██████████| 94542/94542 [21:50<00:00, 72.14it/s] \n"
     ]
    },
    {
     "name": "stdout",
     "output_type": "stream",
     "text": [
      "\tTraining: \tAcc:84.70626811364261, \terror: nan\n"
     ]
    },
    {
     "name": "stderr",
     "output_type": "stream",
     "text": [
      "  0%|          | 4/94542 [00:00<45:24, 34.70it/s]"
     ]
    },
    {
     "name": "stdout",
     "output_type": "stream",
     "text": [
      "\tValidation: \tAcc:84.66761859432016, \terror: nan\n",
      "Epoch : 29/50\n"
     ]
    },
    {
     "name": "stderr",
     "output_type": "stream",
     "text": [
      "100%|██████████| 94542/94542 [21:48<00:00, 72.24it/s] \n"
     ]
    },
    {
     "name": "stdout",
     "output_type": "stream",
     "text": [
      "\tTraining: \tAcc:84.70626811364261, \terror: nan\n"
     ]
    },
    {
     "name": "stderr",
     "output_type": "stream",
     "text": [
      "  0%|          | 7/94542 [00:00<25:10, 62.60it/s]"
     ]
    },
    {
     "name": "stdout",
     "output_type": "stream",
     "text": [
      "\tValidation: \tAcc:84.66761859432016, \terror: nan\n",
      "Epoch : 30/50\n"
     ]
    },
    {
     "name": "stderr",
     "output_type": "stream",
     "text": [
      "100%|██████████| 94542/94542 [22:26<00:00, 70.20it/s] \n"
     ]
    },
    {
     "name": "stdout",
     "output_type": "stream",
     "text": [
      "\tTraining: \tAcc:84.70626811364261, \terror: nan\n"
     ]
    },
    {
     "name": "stderr",
     "output_type": "stream",
     "text": [
      "  0%|          | 6/94542 [00:00<28:36, 55.08it/s]"
     ]
    },
    {
     "name": "stdout",
     "output_type": "stream",
     "text": [
      "\tValidation: \tAcc:84.66761859432016, \terror: nan\n",
      "Epoch : 31/50\n"
     ]
    },
    {
     "name": "stderr",
     "output_type": "stream",
     "text": [
      "100%|██████████| 94542/94542 [21:02<00:00, 74.91it/s] \n"
     ]
    },
    {
     "name": "stdout",
     "output_type": "stream",
     "text": [
      "\tTraining: \tAcc:84.70626811364261, \terror: nan\n"
     ]
    },
    {
     "name": "stderr",
     "output_type": "stream",
     "text": [
      "  0%|          | 6/94542 [00:00<28:17, 55.70it/s]"
     ]
    },
    {
     "name": "stdout",
     "output_type": "stream",
     "text": [
      "\tValidation: \tAcc:84.66761859432016, \terror: nan\n",
      "Epoch : 32/50\n"
     ]
    },
    {
     "name": "stderr",
     "output_type": "stream",
     "text": [
      "100%|██████████| 94542/94542 [21:37<00:00, 72.86it/s] \n"
     ]
    },
    {
     "name": "stdout",
     "output_type": "stream",
     "text": [
      "\tTraining: \tAcc:84.70626811364261, \terror: nan\n"
     ]
    },
    {
     "name": "stderr",
     "output_type": "stream",
     "text": [
      "  0%|          | 6/94542 [00:00<29:18, 53.76it/s]"
     ]
    },
    {
     "name": "stdout",
     "output_type": "stream",
     "text": [
      "\tValidation: \tAcc:84.66761859432016, \terror: nan\n",
      "Epoch : 33/50\n"
     ]
    },
    {
     "name": "stderr",
     "output_type": "stream",
     "text": [
      "100%|██████████| 94542/94542 [22:10<00:00, 71.06it/s] \n"
     ]
    },
    {
     "name": "stdout",
     "output_type": "stream",
     "text": [
      "\tTraining: \tAcc:84.70626811364261, \terror: nan\n"
     ]
    },
    {
     "name": "stderr",
     "output_type": "stream",
     "text": [
      "  0%|          | 6/94542 [00:00<28:32, 55.19it/s]"
     ]
    },
    {
     "name": "stdout",
     "output_type": "stream",
     "text": [
      "\tValidation: \tAcc:84.66761859432016, \terror: nan\n",
      "Epoch : 34/50\n"
     ]
    },
    {
     "name": "stderr",
     "output_type": "stream",
     "text": [
      "100%|██████████| 94542/94542 [21:56<00:00, 71.82it/s] \n"
     ]
    },
    {
     "name": "stdout",
     "output_type": "stream",
     "text": [
      "\tTraining: \tAcc:84.70626811364261, \terror: nan\n"
     ]
    },
    {
     "name": "stderr",
     "output_type": "stream",
     "text": [
      "  0%|          | 5/94542 [00:00<32:38, 48.26it/s]"
     ]
    },
    {
     "name": "stdout",
     "output_type": "stream",
     "text": [
      "\tValidation: \tAcc:84.66761859432016, \terror: nan\n",
      "Epoch : 35/50\n"
     ]
    },
    {
     "name": "stderr",
     "output_type": "stream",
     "text": [
      "100%|██████████| 94542/94542 [20:28<00:00, 76.98it/s] \n"
     ]
    },
    {
     "name": "stdout",
     "output_type": "stream",
     "text": [
      "\tTraining: \tAcc:84.70626811364261, \terror: nan\n"
     ]
    },
    {
     "name": "stderr",
     "output_type": "stream",
     "text": [
      "  0%|          | 5/94542 [00:00<33:40, 46.78it/s]"
     ]
    },
    {
     "name": "stdout",
     "output_type": "stream",
     "text": [
      "\tValidation: \tAcc:84.66761859432016, \terror: nan\n",
      "Epoch : 36/50\n"
     ]
    },
    {
     "name": "stderr",
     "output_type": "stream",
     "text": [
      "100%|██████████| 94542/94542 [21:53<00:00, 71.95it/s] \n"
     ]
    },
    {
     "name": "stdout",
     "output_type": "stream",
     "text": [
      "\tTraining: \tAcc:84.70626811364261, \terror: nan\n"
     ]
    },
    {
     "name": "stderr",
     "output_type": "stream",
     "text": [
      "  0%|          | 6/94542 [00:00<27:14, 57.84it/s]"
     ]
    },
    {
     "name": "stdout",
     "output_type": "stream",
     "text": [
      "\tValidation: \tAcc:84.66761859432016, \terror: nan\n",
      "Epoch : 37/50\n"
     ]
    },
    {
     "name": "stderr",
     "output_type": "stream",
     "text": [
      "100%|██████████| 94542/94542 [21:47<00:00, 72.30it/s] \n"
     ]
    },
    {
     "name": "stdout",
     "output_type": "stream",
     "text": [
      "\tTraining: \tAcc:84.70626811364261, \terror: nan\n"
     ]
    },
    {
     "name": "stderr",
     "output_type": "stream",
     "text": [
      "  0%|          | 5/94542 [00:00<34:38, 45.49it/s]"
     ]
    },
    {
     "name": "stdout",
     "output_type": "stream",
     "text": [
      "\tValidation: \tAcc:84.66761859432016, \terror: nan\n",
      "Epoch : 38/50\n"
     ]
    },
    {
     "name": "stderr",
     "output_type": "stream",
     "text": [
      "100%|██████████| 94542/94542 [21:21<00:00, 73.78it/s] \n"
     ]
    },
    {
     "name": "stdout",
     "output_type": "stream",
     "text": [
      "\tTraining: \tAcc:84.70626811364261, \terror: nan\n"
     ]
    },
    {
     "name": "stderr",
     "output_type": "stream",
     "text": [
      "  0%|          | 8/94542 [00:00<21:31, 73.22it/s]"
     ]
    },
    {
     "name": "stdout",
     "output_type": "stream",
     "text": [
      "\tValidation: \tAcc:84.66761859432016, \terror: nan\n",
      "Epoch : 39/50\n"
     ]
    },
    {
     "name": "stderr",
     "output_type": "stream",
     "text": [
      "100%|██████████| 94542/94542 [21:26<00:00, 73.47it/s] \n"
     ]
    },
    {
     "name": "stdout",
     "output_type": "stream",
     "text": [
      "\tTraining: \tAcc:84.70626811364261, \terror: nan\n"
     ]
    },
    {
     "name": "stderr",
     "output_type": "stream",
     "text": [
      "  0%|          | 6/94542 [00:00<27:09, 58.00it/s]"
     ]
    },
    {
     "name": "stdout",
     "output_type": "stream",
     "text": [
      "\tValidation: \tAcc:84.66761859432016, \terror: nan\n",
      "Epoch : 40/50\n"
     ]
    },
    {
     "name": "stderr",
     "output_type": "stream",
     "text": [
      "100%|██████████| 94542/94542 [21:37<00:00, 72.88it/s] \n"
     ]
    },
    {
     "name": "stdout",
     "output_type": "stream",
     "text": [
      "\tTraining: \tAcc:84.70626811364261, \terror: nan\n"
     ]
    },
    {
     "name": "stderr",
     "output_type": "stream",
     "text": [
      "  0%|          | 5/94542 [00:00<34:21, 45.85it/s]"
     ]
    },
    {
     "name": "stdout",
     "output_type": "stream",
     "text": [
      "\tValidation: \tAcc:84.66761859432016, \terror: nan\n",
      "Epoch : 41/50\n"
     ]
    },
    {
     "name": "stderr",
     "output_type": "stream",
     "text": [
      "100%|██████████| 94542/94542 [22:19<00:00, 70.57it/s] \n"
     ]
    },
    {
     "name": "stdout",
     "output_type": "stream",
     "text": [
      "\tTraining: \tAcc:84.70626811364261, \terror: nan\n"
     ]
    },
    {
     "name": "stderr",
     "output_type": "stream",
     "text": [
      "  0%|          | 6/94542 [00:00<29:12, 53.96it/s]"
     ]
    },
    {
     "name": "stdout",
     "output_type": "stream",
     "text": [
      "\tValidation: \tAcc:84.66761859432016, \terror: nan\n",
      "Epoch : 42/50\n"
     ]
    },
    {
     "name": "stderr",
     "output_type": "stream",
     "text": [
      "100%|██████████| 94542/94542 [21:10<00:00, 74.43it/s] \n"
     ]
    },
    {
     "name": "stdout",
     "output_type": "stream",
     "text": [
      "\tTraining: \tAcc:84.70626811364261, \terror: nan\n"
     ]
    },
    {
     "name": "stderr",
     "output_type": "stream",
     "text": [
      "  0%|          | 5/94542 [00:00<31:33, 49.92it/s]"
     ]
    },
    {
     "name": "stdout",
     "output_type": "stream",
     "text": [
      "\tValidation: \tAcc:84.66761859432016, \terror: nan\n",
      "Epoch : 43/50\n"
     ]
    },
    {
     "name": "stderr",
     "output_type": "stream",
     "text": [
      "100%|██████████| 94542/94542 [22:01<00:00, 71.52it/s] \n"
     ]
    },
    {
     "name": "stdout",
     "output_type": "stream",
     "text": [
      "\tTraining: \tAcc:84.70626811364261, \terror: nan\n"
     ]
    },
    {
     "name": "stderr",
     "output_type": "stream",
     "text": [
      "  0%|          | 4/94542 [00:00<45:17, 34.79it/s]"
     ]
    },
    {
     "name": "stdout",
     "output_type": "stream",
     "text": [
      "\tValidation: \tAcc:84.66761859432016, \terror: nan\n",
      "Epoch : 44/50\n"
     ]
    },
    {
     "name": "stderr",
     "output_type": "stream",
     "text": [
      "100%|██████████| 94542/94542 [20:18<00:00, 77.59it/s] \n"
     ]
    },
    {
     "name": "stdout",
     "output_type": "stream",
     "text": [
      "\tTraining: \tAcc:84.70626811364261, \terror: nan\n"
     ]
    },
    {
     "name": "stderr",
     "output_type": "stream",
     "text": [
      "  0%|          | 7/94542 [00:00<25:35, 61.55it/s]"
     ]
    },
    {
     "name": "stdout",
     "output_type": "stream",
     "text": [
      "\tValidation: \tAcc:84.66761859432016, \terror: nan\n",
      "Epoch : 45/50\n"
     ]
    },
    {
     "name": "stderr",
     "output_type": "stream",
     "text": [
      "100%|██████████| 94542/94542 [15:27<00:00, 101.91it/s]\n"
     ]
    },
    {
     "name": "stdout",
     "output_type": "stream",
     "text": [
      "\tTraining: \tAcc:84.70626811364261, \terror: nan\n"
     ]
    },
    {
     "name": "stderr",
     "output_type": "stream",
     "text": [
      "  0%|          | 7/94542 [00:00<24:44, 63.68it/s]"
     ]
    },
    {
     "name": "stdout",
     "output_type": "stream",
     "text": [
      "\tValidation: \tAcc:84.66761859432016, \terror: nan\n",
      "Epoch : 46/50\n"
     ]
    },
    {
     "name": "stderr",
     "output_type": "stream",
     "text": [
      "100%|██████████| 94542/94542 [17:38<00:00, 89.31it/s] \n"
     ]
    },
    {
     "name": "stdout",
     "output_type": "stream",
     "text": [
      "\tTraining: \tAcc:84.70626811364261, \terror: nan\n"
     ]
    },
    {
     "name": "stderr",
     "output_type": "stream",
     "text": [
      "  0%|          | 7/94542 [00:00<24:36, 64.01it/s]"
     ]
    },
    {
     "name": "stdout",
     "output_type": "stream",
     "text": [
      "\tValidation: \tAcc:84.66761859432016, \terror: nan\n",
      "Epoch : 47/50\n"
     ]
    },
    {
     "name": "stderr",
     "output_type": "stream",
     "text": [
      "100%|██████████| 94542/94542 [24:45<00:00, 63.66it/s] \n"
     ]
    },
    {
     "name": "stdout",
     "output_type": "stream",
     "text": [
      "\tTraining: \tAcc:84.70626811364261, \terror: nan\n"
     ]
    },
    {
     "name": "stderr",
     "output_type": "stream",
     "text": [
      "  0%|          | 7/94542 [00:00<24:58, 63.11it/s]"
     ]
    },
    {
     "name": "stdout",
     "output_type": "stream",
     "text": [
      "\tValidation: \tAcc:84.66761859432016, \terror: nan\n",
      "Epoch : 48/50\n"
     ]
    },
    {
     "name": "stderr",
     "output_type": "stream",
     "text": [
      "100%|██████████| 94542/94542 [17:50<00:00, 88.30it/s] \n"
     ]
    },
    {
     "name": "stdout",
     "output_type": "stream",
     "text": [
      "\tTraining: \tAcc:84.70626811364261, \terror: nan\n"
     ]
    },
    {
     "name": "stderr",
     "output_type": "stream",
     "text": [
      "  0%|          | 14/94542 [00:00<11:58, 131.57it/s]"
     ]
    },
    {
     "name": "stdout",
     "output_type": "stream",
     "text": [
      "\tValidation: \tAcc:84.66761859432016, \terror: nan\n",
      "Epoch : 49/50\n"
     ]
    },
    {
     "name": "stderr",
     "output_type": "stream",
     "text": [
      "100%|██████████| 94542/94542 [19:13<00:00, 81.99it/s] \n"
     ]
    },
    {
     "name": "stdout",
     "output_type": "stream",
     "text": [
      "\tTraining: \tAcc:84.70626811364261, \terror: nan\n"
     ]
    },
    {
     "name": "stderr",
     "output_type": "stream",
     "text": [
      "  0%|          | 6/94542 [00:00<27:46, 56.73it/s]"
     ]
    },
    {
     "name": "stdout",
     "output_type": "stream",
     "text": [
      "\tValidation: \tAcc:84.66761859432016, \terror: nan\n",
      "Epoch : 50/50\n"
     ]
    },
    {
     "name": "stderr",
     "output_type": "stream",
     "text": [
      "100%|██████████| 94542/94542 [19:38<00:00, 80.21it/s] \n"
     ]
    },
    {
     "name": "stdout",
     "output_type": "stream",
     "text": [
      "\tTraining: \tAcc:84.70626811364261, \terror: nan\n",
      "\tValidation: \tAcc:84.66761859432016, \terror: nan\n"
     ]
    }
   ],
   "source": [
    "# train\n",
    "hist2 = train(\n",
    "    network2,\n",
    "    binary_cross_entropy,\n",
    "    binary_cross_entropy_prime,\n",
    "    X_train,\n",
    "    y_train,\n",
    "    X_val,\n",
    "    y_val,\n",
    "    epochs=50,\n",
    "    learning_rate=0.001\n",
    ")"
   ]
  },
  {
   "cell_type": "code",
   "execution_count": 22,
   "metadata": {
    "scrolled": true
   },
   "outputs": [
    {
     "data": {
      "text/html": [
       "<div>\n",
       "<style scoped>\n",
       "    .dataframe tbody tr th:only-of-type {\n",
       "        vertical-align: middle;\n",
       "    }\n",
       "\n",
       "    .dataframe tbody tr th {\n",
       "        vertical-align: top;\n",
       "    }\n",
       "\n",
       "    .dataframe thead th {\n",
       "        text-align: right;\n",
       "    }\n",
       "</style>\n",
       "<table border=\"1\" class=\"dataframe\">\n",
       "  <thead>\n",
       "    <tr style=\"text-align: right;\">\n",
       "      <th></th>\n",
       "      <th>Epoch</th>\n",
       "      <th>Train Acc</th>\n",
       "      <th>Val Acc</th>\n",
       "      <th>Train Err</th>\n",
       "      <th>Val Err</th>\n",
       "    </tr>\n",
       "  </thead>\n",
       "  <tbody>\n",
       "    <tr>\n",
       "      <th>0</th>\n",
       "      <td>1</td>\n",
       "      <td>84.707326</td>\n",
       "      <td>84.667619</td>\n",
       "      <td>NaN</td>\n",
       "      <td>NaN</td>\n",
       "    </tr>\n",
       "    <tr>\n",
       "      <th>1</th>\n",
       "      <td>2</td>\n",
       "      <td>84.706268</td>\n",
       "      <td>84.667619</td>\n",
       "      <td>NaN</td>\n",
       "      <td>NaN</td>\n",
       "    </tr>\n",
       "    <tr>\n",
       "      <th>2</th>\n",
       "      <td>3</td>\n",
       "      <td>84.706268</td>\n",
       "      <td>84.667619</td>\n",
       "      <td>NaN</td>\n",
       "      <td>NaN</td>\n",
       "    </tr>\n",
       "    <tr>\n",
       "      <th>3</th>\n",
       "      <td>4</td>\n",
       "      <td>84.706268</td>\n",
       "      <td>84.667619</td>\n",
       "      <td>NaN</td>\n",
       "      <td>NaN</td>\n",
       "    </tr>\n",
       "    <tr>\n",
       "      <th>4</th>\n",
       "      <td>5</td>\n",
       "      <td>84.706268</td>\n",
       "      <td>84.667619</td>\n",
       "      <td>NaN</td>\n",
       "      <td>NaN</td>\n",
       "    </tr>\n",
       "    <tr>\n",
       "      <th>5</th>\n",
       "      <td>6</td>\n",
       "      <td>84.706268</td>\n",
       "      <td>84.667619</td>\n",
       "      <td>NaN</td>\n",
       "      <td>NaN</td>\n",
       "    </tr>\n",
       "    <tr>\n",
       "      <th>6</th>\n",
       "      <td>7</td>\n",
       "      <td>84.706268</td>\n",
       "      <td>84.667619</td>\n",
       "      <td>NaN</td>\n",
       "      <td>NaN</td>\n",
       "    </tr>\n",
       "    <tr>\n",
       "      <th>7</th>\n",
       "      <td>8</td>\n",
       "      <td>84.706268</td>\n",
       "      <td>84.667619</td>\n",
       "      <td>NaN</td>\n",
       "      <td>NaN</td>\n",
       "    </tr>\n",
       "    <tr>\n",
       "      <th>8</th>\n",
       "      <td>9</td>\n",
       "      <td>84.706268</td>\n",
       "      <td>84.667619</td>\n",
       "      <td>NaN</td>\n",
       "      <td>NaN</td>\n",
       "    </tr>\n",
       "    <tr>\n",
       "      <th>9</th>\n",
       "      <td>10</td>\n",
       "      <td>84.706268</td>\n",
       "      <td>84.667619</td>\n",
       "      <td>NaN</td>\n",
       "      <td>NaN</td>\n",
       "    </tr>\n",
       "    <tr>\n",
       "      <th>10</th>\n",
       "      <td>11</td>\n",
       "      <td>84.706268</td>\n",
       "      <td>84.667619</td>\n",
       "      <td>NaN</td>\n",
       "      <td>NaN</td>\n",
       "    </tr>\n",
       "    <tr>\n",
       "      <th>11</th>\n",
       "      <td>12</td>\n",
       "      <td>84.706268</td>\n",
       "      <td>84.667619</td>\n",
       "      <td>NaN</td>\n",
       "      <td>NaN</td>\n",
       "    </tr>\n",
       "    <tr>\n",
       "      <th>12</th>\n",
       "      <td>13</td>\n",
       "      <td>84.706268</td>\n",
       "      <td>84.667619</td>\n",
       "      <td>NaN</td>\n",
       "      <td>NaN</td>\n",
       "    </tr>\n",
       "    <tr>\n",
       "      <th>13</th>\n",
       "      <td>14</td>\n",
       "      <td>84.706268</td>\n",
       "      <td>84.667619</td>\n",
       "      <td>NaN</td>\n",
       "      <td>NaN</td>\n",
       "    </tr>\n",
       "    <tr>\n",
       "      <th>14</th>\n",
       "      <td>15</td>\n",
       "      <td>84.706268</td>\n",
       "      <td>84.667619</td>\n",
       "      <td>NaN</td>\n",
       "      <td>NaN</td>\n",
       "    </tr>\n",
       "    <tr>\n",
       "      <th>15</th>\n",
       "      <td>16</td>\n",
       "      <td>84.706268</td>\n",
       "      <td>84.667619</td>\n",
       "      <td>NaN</td>\n",
       "      <td>NaN</td>\n",
       "    </tr>\n",
       "    <tr>\n",
       "      <th>16</th>\n",
       "      <td>17</td>\n",
       "      <td>84.706268</td>\n",
       "      <td>84.667619</td>\n",
       "      <td>NaN</td>\n",
       "      <td>NaN</td>\n",
       "    </tr>\n",
       "    <tr>\n",
       "      <th>17</th>\n",
       "      <td>18</td>\n",
       "      <td>84.706268</td>\n",
       "      <td>84.667619</td>\n",
       "      <td>NaN</td>\n",
       "      <td>NaN</td>\n",
       "    </tr>\n",
       "    <tr>\n",
       "      <th>18</th>\n",
       "      <td>19</td>\n",
       "      <td>84.706268</td>\n",
       "      <td>84.667619</td>\n",
       "      <td>NaN</td>\n",
       "      <td>NaN</td>\n",
       "    </tr>\n",
       "    <tr>\n",
       "      <th>19</th>\n",
       "      <td>20</td>\n",
       "      <td>84.706268</td>\n",
       "      <td>84.667619</td>\n",
       "      <td>NaN</td>\n",
       "      <td>NaN</td>\n",
       "    </tr>\n",
       "    <tr>\n",
       "      <th>20</th>\n",
       "      <td>21</td>\n",
       "      <td>84.706268</td>\n",
       "      <td>84.667619</td>\n",
       "      <td>NaN</td>\n",
       "      <td>NaN</td>\n",
       "    </tr>\n",
       "    <tr>\n",
       "      <th>21</th>\n",
       "      <td>22</td>\n",
       "      <td>84.706268</td>\n",
       "      <td>84.667619</td>\n",
       "      <td>NaN</td>\n",
       "      <td>NaN</td>\n",
       "    </tr>\n",
       "    <tr>\n",
       "      <th>22</th>\n",
       "      <td>23</td>\n",
       "      <td>84.706268</td>\n",
       "      <td>84.667619</td>\n",
       "      <td>NaN</td>\n",
       "      <td>NaN</td>\n",
       "    </tr>\n",
       "    <tr>\n",
       "      <th>23</th>\n",
       "      <td>24</td>\n",
       "      <td>84.706268</td>\n",
       "      <td>84.667619</td>\n",
       "      <td>NaN</td>\n",
       "      <td>NaN</td>\n",
       "    </tr>\n",
       "    <tr>\n",
       "      <th>24</th>\n",
       "      <td>25</td>\n",
       "      <td>84.706268</td>\n",
       "      <td>84.667619</td>\n",
       "      <td>NaN</td>\n",
       "      <td>NaN</td>\n",
       "    </tr>\n",
       "    <tr>\n",
       "      <th>25</th>\n",
       "      <td>26</td>\n",
       "      <td>84.706268</td>\n",
       "      <td>84.667619</td>\n",
       "      <td>NaN</td>\n",
       "      <td>NaN</td>\n",
       "    </tr>\n",
       "    <tr>\n",
       "      <th>26</th>\n",
       "      <td>27</td>\n",
       "      <td>84.706268</td>\n",
       "      <td>84.667619</td>\n",
       "      <td>NaN</td>\n",
       "      <td>NaN</td>\n",
       "    </tr>\n",
       "    <tr>\n",
       "      <th>27</th>\n",
       "      <td>28</td>\n",
       "      <td>84.706268</td>\n",
       "      <td>84.667619</td>\n",
       "      <td>NaN</td>\n",
       "      <td>NaN</td>\n",
       "    </tr>\n",
       "    <tr>\n",
       "      <th>28</th>\n",
       "      <td>29</td>\n",
       "      <td>84.706268</td>\n",
       "      <td>84.667619</td>\n",
       "      <td>NaN</td>\n",
       "      <td>NaN</td>\n",
       "    </tr>\n",
       "    <tr>\n",
       "      <th>29</th>\n",
       "      <td>30</td>\n",
       "      <td>84.706268</td>\n",
       "      <td>84.667619</td>\n",
       "      <td>NaN</td>\n",
       "      <td>NaN</td>\n",
       "    </tr>\n",
       "    <tr>\n",
       "      <th>30</th>\n",
       "      <td>31</td>\n",
       "      <td>84.706268</td>\n",
       "      <td>84.667619</td>\n",
       "      <td>NaN</td>\n",
       "      <td>NaN</td>\n",
       "    </tr>\n",
       "    <tr>\n",
       "      <th>31</th>\n",
       "      <td>32</td>\n",
       "      <td>84.706268</td>\n",
       "      <td>84.667619</td>\n",
       "      <td>NaN</td>\n",
       "      <td>NaN</td>\n",
       "    </tr>\n",
       "    <tr>\n",
       "      <th>32</th>\n",
       "      <td>33</td>\n",
       "      <td>84.706268</td>\n",
       "      <td>84.667619</td>\n",
       "      <td>NaN</td>\n",
       "      <td>NaN</td>\n",
       "    </tr>\n",
       "    <tr>\n",
       "      <th>33</th>\n",
       "      <td>34</td>\n",
       "      <td>84.706268</td>\n",
       "      <td>84.667619</td>\n",
       "      <td>NaN</td>\n",
       "      <td>NaN</td>\n",
       "    </tr>\n",
       "    <tr>\n",
       "      <th>34</th>\n",
       "      <td>35</td>\n",
       "      <td>84.706268</td>\n",
       "      <td>84.667619</td>\n",
       "      <td>NaN</td>\n",
       "      <td>NaN</td>\n",
       "    </tr>\n",
       "    <tr>\n",
       "      <th>35</th>\n",
       "      <td>36</td>\n",
       "      <td>84.706268</td>\n",
       "      <td>84.667619</td>\n",
       "      <td>NaN</td>\n",
       "      <td>NaN</td>\n",
       "    </tr>\n",
       "    <tr>\n",
       "      <th>36</th>\n",
       "      <td>37</td>\n",
       "      <td>84.706268</td>\n",
       "      <td>84.667619</td>\n",
       "      <td>NaN</td>\n",
       "      <td>NaN</td>\n",
       "    </tr>\n",
       "    <tr>\n",
       "      <th>37</th>\n",
       "      <td>38</td>\n",
       "      <td>84.706268</td>\n",
       "      <td>84.667619</td>\n",
       "      <td>NaN</td>\n",
       "      <td>NaN</td>\n",
       "    </tr>\n",
       "    <tr>\n",
       "      <th>38</th>\n",
       "      <td>39</td>\n",
       "      <td>84.706268</td>\n",
       "      <td>84.667619</td>\n",
       "      <td>NaN</td>\n",
       "      <td>NaN</td>\n",
       "    </tr>\n",
       "    <tr>\n",
       "      <th>39</th>\n",
       "      <td>40</td>\n",
       "      <td>84.706268</td>\n",
       "      <td>84.667619</td>\n",
       "      <td>NaN</td>\n",
       "      <td>NaN</td>\n",
       "    </tr>\n",
       "    <tr>\n",
       "      <th>40</th>\n",
       "      <td>41</td>\n",
       "      <td>84.706268</td>\n",
       "      <td>84.667619</td>\n",
       "      <td>NaN</td>\n",
       "      <td>NaN</td>\n",
       "    </tr>\n",
       "    <tr>\n",
       "      <th>41</th>\n",
       "      <td>42</td>\n",
       "      <td>84.706268</td>\n",
       "      <td>84.667619</td>\n",
       "      <td>NaN</td>\n",
       "      <td>NaN</td>\n",
       "    </tr>\n",
       "    <tr>\n",
       "      <th>42</th>\n",
       "      <td>43</td>\n",
       "      <td>84.706268</td>\n",
       "      <td>84.667619</td>\n",
       "      <td>NaN</td>\n",
       "      <td>NaN</td>\n",
       "    </tr>\n",
       "    <tr>\n",
       "      <th>43</th>\n",
       "      <td>44</td>\n",
       "      <td>84.706268</td>\n",
       "      <td>84.667619</td>\n",
       "      <td>NaN</td>\n",
       "      <td>NaN</td>\n",
       "    </tr>\n",
       "    <tr>\n",
       "      <th>44</th>\n",
       "      <td>45</td>\n",
       "      <td>84.706268</td>\n",
       "      <td>84.667619</td>\n",
       "      <td>NaN</td>\n",
       "      <td>NaN</td>\n",
       "    </tr>\n",
       "    <tr>\n",
       "      <th>45</th>\n",
       "      <td>46</td>\n",
       "      <td>84.706268</td>\n",
       "      <td>84.667619</td>\n",
       "      <td>NaN</td>\n",
       "      <td>NaN</td>\n",
       "    </tr>\n",
       "    <tr>\n",
       "      <th>46</th>\n",
       "      <td>47</td>\n",
       "      <td>84.706268</td>\n",
       "      <td>84.667619</td>\n",
       "      <td>NaN</td>\n",
       "      <td>NaN</td>\n",
       "    </tr>\n",
       "    <tr>\n",
       "      <th>47</th>\n",
       "      <td>48</td>\n",
       "      <td>84.706268</td>\n",
       "      <td>84.667619</td>\n",
       "      <td>NaN</td>\n",
       "      <td>NaN</td>\n",
       "    </tr>\n",
       "    <tr>\n",
       "      <th>48</th>\n",
       "      <td>49</td>\n",
       "      <td>84.706268</td>\n",
       "      <td>84.667619</td>\n",
       "      <td>NaN</td>\n",
       "      <td>NaN</td>\n",
       "    </tr>\n",
       "    <tr>\n",
       "      <th>49</th>\n",
       "      <td>50</td>\n",
       "      <td>84.706268</td>\n",
       "      <td>84.667619</td>\n",
       "      <td>NaN</td>\n",
       "      <td>NaN</td>\n",
       "    </tr>\n",
       "  </tbody>\n",
       "</table>\n",
       "</div>"
      ],
      "text/plain": [
       "    Epoch  Train Acc    Val Acc  Train Err  Val Err\n",
       "0       1  84.707326  84.667619        NaN      NaN\n",
       "1       2  84.706268  84.667619        NaN      NaN\n",
       "2       3  84.706268  84.667619        NaN      NaN\n",
       "3       4  84.706268  84.667619        NaN      NaN\n",
       "4       5  84.706268  84.667619        NaN      NaN\n",
       "5       6  84.706268  84.667619        NaN      NaN\n",
       "6       7  84.706268  84.667619        NaN      NaN\n",
       "7       8  84.706268  84.667619        NaN      NaN\n",
       "8       9  84.706268  84.667619        NaN      NaN\n",
       "9      10  84.706268  84.667619        NaN      NaN\n",
       "10     11  84.706268  84.667619        NaN      NaN\n",
       "11     12  84.706268  84.667619        NaN      NaN\n",
       "12     13  84.706268  84.667619        NaN      NaN\n",
       "13     14  84.706268  84.667619        NaN      NaN\n",
       "14     15  84.706268  84.667619        NaN      NaN\n",
       "15     16  84.706268  84.667619        NaN      NaN\n",
       "16     17  84.706268  84.667619        NaN      NaN\n",
       "17     18  84.706268  84.667619        NaN      NaN\n",
       "18     19  84.706268  84.667619        NaN      NaN\n",
       "19     20  84.706268  84.667619        NaN      NaN\n",
       "20     21  84.706268  84.667619        NaN      NaN\n",
       "21     22  84.706268  84.667619        NaN      NaN\n",
       "22     23  84.706268  84.667619        NaN      NaN\n",
       "23     24  84.706268  84.667619        NaN      NaN\n",
       "24     25  84.706268  84.667619        NaN      NaN\n",
       "25     26  84.706268  84.667619        NaN      NaN\n",
       "26     27  84.706268  84.667619        NaN      NaN\n",
       "27     28  84.706268  84.667619        NaN      NaN\n",
       "28     29  84.706268  84.667619        NaN      NaN\n",
       "29     30  84.706268  84.667619        NaN      NaN\n",
       "30     31  84.706268  84.667619        NaN      NaN\n",
       "31     32  84.706268  84.667619        NaN      NaN\n",
       "32     33  84.706268  84.667619        NaN      NaN\n",
       "33     34  84.706268  84.667619        NaN      NaN\n",
       "34     35  84.706268  84.667619        NaN      NaN\n",
       "35     36  84.706268  84.667619        NaN      NaN\n",
       "36     37  84.706268  84.667619        NaN      NaN\n",
       "37     38  84.706268  84.667619        NaN      NaN\n",
       "38     39  84.706268  84.667619        NaN      NaN\n",
       "39     40  84.706268  84.667619        NaN      NaN\n",
       "40     41  84.706268  84.667619        NaN      NaN\n",
       "41     42  84.706268  84.667619        NaN      NaN\n",
       "42     43  84.706268  84.667619        NaN      NaN\n",
       "43     44  84.706268  84.667619        NaN      NaN\n",
       "44     45  84.706268  84.667619        NaN      NaN\n",
       "45     46  84.706268  84.667619        NaN      NaN\n",
       "46     47  84.706268  84.667619        NaN      NaN\n",
       "47     48  84.706268  84.667619        NaN      NaN\n",
       "48     49  84.706268  84.667619        NaN      NaN\n",
       "49     50  84.706268  84.667619        NaN      NaN"
      ]
     },
     "execution_count": 22,
     "metadata": {},
     "output_type": "execute_result"
    },
    {
     "data": {
      "image/png": "[encoded data removed]",
      "text/plain": [
       "<Figure size 1080x360 with 2 Axes>"
      ]
     },
     "metadata": {
      "needs_background": "light"
     },
     "output_type": "display_data"
    }
   ],
   "source": [
    "plot_accuracy_loss_CNN(hist2, title_fig = 'CNN Performance with Relu')\n",
    "hist2"
   ]
  },
  {
   "cell_type": "code",
   "execution_count": 23,
   "metadata": {},
   "outputs": [
    {
     "name": "stdout",
     "output_type": "stream",
     "text": [
      "Test accuracy: 84.75329208313501\n"
     ]
    },
    {
     "data": {
      "image/png": "[encoded data removed]",
      "text/plain": [
       "<Figure size 360x288 with 2 Axes>"
      ]
     },
     "metadata": {
      "needs_background": "light"
     },
     "output_type": "display_data"
    }
   ],
   "source": [
    "Display_prediction_results(network2, X_test, y_test)"
   ]
  },
  {
   "cell_type": "markdown",
   "metadata": {},
   "source": [
    "# TRANSFER LEARNING"
   ]
  },
  {
   "cell_type": "code",
   "execution_count": 15,
   "metadata": {},
   "outputs": [],
   "source": [
    "def plot_hist(hist):\n",
    "    plt.plot(hist.history[\"accuracy\"])\n",
    "    plt.plot(hist.history[\"val_accuracy\"])\n",
    "    plt.title(\"model accuracy\")\n",
    "    plt.ylabel(\"accuracy\")\n",
    "    plt.xlabel(\"epoch\")\n",
    "    plt.legend([\"train\", \"validation\"], loc=\"upper left\")\n",
    "    plt.show()"
   ]
  },
  {
   "cell_type": "code",
   "execution_count": 16,
   "metadata": {},
   "outputs": [],
   "source": [
    "def f1_score(y_true, y_pred): #taken from old keras source code\n",
    "    true_positives = K.sum(K.round(K.clip(y_true * y_pred, 0, 1)))\n",
    "    possible_positives = K.sum(K.round(K.clip(y_true, 0, 1)))\n",
    "    predicted_positives = K.sum(K.round(K.clip(y_pred, 0, 1)))\n",
    "    precision = true_positives / (predicted_positives + K.epsilon())\n",
    "    recall = true_positives / (possible_positives + K.epsilon())\n",
    "    f1_val = 2*(precision*recall)/(precision+recall+K.epsilon())\n",
    "    return f1_val"
   ]
  },
  {
   "cell_type": "code",
   "execution_count": 17,
   "metadata": {},
   "outputs": [],
   "source": [
    "def plot_accuracy_loss(hist, title_fig = 'Pre-trained CNN (Transfer Learning) Performance'):\n",
    "    \n",
    "    f, (ax1, ax2) = plt.subplots(1, 2, figsize=(15, 5))\n",
    "    t = f.suptitle(title_fig, fontsize=12)\n",
    "    f.subplots_adjust(top=0.85, wspace=0.3)\n",
    "\n",
    "    n = len(hist.history['accuracy'])\n",
    "\n",
    "    epoch_list = list(range(1,n+1))\n",
    "    ax1.plot(epoch_list, hist.history['accuracy'], label='Train Accuracy')\n",
    "    ax1.plot(epoch_list, hist.history['val_accuracy'], label='Validation Accuracy')\n",
    "\n",
    "    ax1.set_xticks(np.arange(0, n+1,5))\n",
    "    ax1.set_ylabel('Accuracy Value')\n",
    "    ax1.set_xlabel('Epoch')\n",
    "    ax1.set_title('Accuracy')\n",
    "    l1 = ax1.legend(loc=\"best\")\n",
    "\n",
    "    ax2.plot(epoch_list, hist.history['loss'], label='Train Loss')\n",
    "    ax2.plot(epoch_list, hist.history['val_loss'], label='Validation Loss')\n",
    "    ax2.set_xticks(np.arange(0, n+1,5))\n",
    "    ax2.set_ylabel('Loss Value')\n",
    "    ax2.set_xlabel('Epoch')\n",
    "    ax2.set_title('Loss')\n",
    "    l2 = ax2.legend(loc=\"best\")"
   ]
  },
  {
   "cell_type": "code",
   "execution_count": 18,
   "metadata": {},
   "outputs": [],
   "source": [
    "img_augmentation = Sequential(\n",
    "    [\n",
    "        layers.RandomRotation(factor=0.15),\n",
    "        layers.RandomTranslation(height_factor=0.1, width_factor=0.1),\n",
    "        layers.RandomFlip(),\n",
    "        layers.RandomContrast(factor=0.1),\n",
    "    ],\n",
    "    name=\"img_augmentation\",\n",
    ")"
   ]
  },
  {
   "cell_type": "code",
   "execution_count": 19,
   "metadata": {},
   "outputs": [
    {
     "name": "stdout",
     "output_type": "stream",
     "text": [
      "X_train shape: (94542, 50, 50, 3)\n",
      "X_test shape: (31515, 50, 50, 3)\n",
      "y_train shape: (94542, 2)\n",
      "y_test shape: (31515, 2)\n",
      "X_val shape: (31515, 50, 50, 3)\n",
      "y val shape: (31515, 2)\n"
     ]
    }
   ],
   "source": [
    "IMG_SIZE = 50\n",
    "NUM_CLASSES = 2\n",
    "\n",
    "X_train, X_test, X_val, y_train, y_test, y_val = pre_processing(img_size=IMG_SIZE, bgr = True)\n",
    "\n",
    "describe_data_shape()"
   ]
  },
  {
   "cell_type": "code",
   "execution_count": 20,
   "metadata": {},
   "outputs": [],
   "source": [
    "inputs = layers.Input(shape=(IMG_SIZE, IMG_SIZE, 3))\n",
    "input_tensor = img_augmentation(inputs)"
   ]
  },
  {
   "cell_type": "code",
   "execution_count": 21,
   "metadata": {},
   "outputs": [],
   "source": [
    "callbacks = [EarlyStopping(monitor='val_loss', patience=5, verbose=1),\n",
    "                ModelCheckpoint('model.hdf5',\n",
    "                                 save_best_only=True)]"
   ]
  },
  {
   "cell_type": "markdown",
   "metadata": {},
   "source": [
    "## VGG-16 MODEL"
   ]
  },
  {
   "cell_type": "code",
   "execution_count": 40,
   "metadata": {
    "scrolled": true
   },
   "outputs": [
    {
     "name": "stdout",
     "output_type": "stream",
     "text": [
      "Model: \"vgg16\"\n",
      "_________________________________________________________________\n",
      "Layer (type)                 Output Shape              Param #   \n",
      "=================================================================\n",
      "input_1 (InputLayer)         [(None, 50, 50, 3)]       0         \n",
      "_________________________________________________________________\n",
      "img_augmentation (Sequential (None, 50, 50, 3)         0         \n",
      "_________________________________________________________________\n",
      "block1_conv1 (Conv2D)        (None, 50, 50, 64)        1792      \n",
      "_________________________________________________________________\n",
      "block1_conv2 (Conv2D)        (None, 50, 50, 64)        36928     \n",
      "_________________________________________________________________\n",
      "block1_pool (MaxPooling2D)   (None, 25, 25, 64)        0         \n",
      "_________________________________________________________________\n",
      "block2_conv1 (Conv2D)        (None, 25, 25, 128)       73856     \n",
      "_________________________________________________________________\n",
      "block2_conv2 (Conv2D)        (None, 25, 25, 128)       147584    \n",
      "_________________________________________________________________\n",
      "block2_pool (MaxPooling2D)   (None, 12, 12, 128)       0         \n",
      "_________________________________________________________________\n",
      "block3_conv1 (Conv2D)        (None, 12, 12, 256)       295168    \n",
      "_________________________________________________________________\n",
      "block3_conv2 (Conv2D)        (None, 12, 12, 256)       590080    \n",
      "_________________________________________________________________\n",
      "block3_conv3 (Conv2D)        (None, 12, 12, 256)       590080    \n",
      "_________________________________________________________________\n",
      "block3_pool (MaxPooling2D)   (None, 6, 6, 256)         0         \n",
      "_________________________________________________________________\n",
      "block4_conv1 (Conv2D)        (None, 6, 6, 512)         1180160   \n",
      "_________________________________________________________________\n",
      "block4_conv2 (Conv2D)        (None, 6, 6, 512)         2359808   \n",
      "_________________________________________________________________\n",
      "block4_conv3 (Conv2D)        (None, 6, 6, 512)         2359808   \n",
      "_________________________________________________________________\n",
      "block4_pool (MaxPooling2D)   (None, 3, 3, 512)         0         \n",
      "_________________________________________________________________\n",
      "block5_conv1 (Conv2D)        (None, 3, 3, 512)         2359808   \n",
      "_________________________________________________________________\n",
      "block5_conv2 (Conv2D)        (None, 3, 3, 512)         2359808   \n",
      "_________________________________________________________________\n",
      "block5_conv3 (Conv2D)        (None, 3, 3, 512)         2359808   \n",
      "_________________________________________________________________\n",
      "block5_pool (MaxPooling2D)   (None, 1, 1, 512)         0         \n",
      "=================================================================\n",
      "Total params: 14,714,688\n",
      "Trainable params: 14,714,688\n",
      "Non-trainable params: 0\n",
      "_________________________________________________________________\n"
     ]
    }
   ],
   "source": [
    "vgg = VGG16(weights='imagenet', include_top=False, input_tensor=input_tensor, classes=NUM_CLASSES)\n",
    "\n",
    "vgg.trainable = True\n",
    "\n",
    "vgg.summary()\n"
   ]
  },
  {
   "cell_type": "code",
   "execution_count": 41,
   "metadata": {},
   "outputs": [
    {
     "name": "stdout",
     "output_type": "stream",
     "text": [
      "Model: \"sequential_3\"\n",
      "_________________________________________________________________\n",
      "Layer (type)                 Output Shape              Param #   \n",
      "=================================================================\n",
      "vgg16 (Functional)           (None, 1, 1, 512)         14714688  \n",
      "_________________________________________________________________\n",
      "flatten_2 (Flatten)          (None, 512)               0         \n",
      "_________________________________________________________________\n",
      "dense_6 (Dense)              (None, 4096)              2101248   \n",
      "_________________________________________________________________\n",
      "batch_normalization_6 (Batch (None, 4096)              16384     \n",
      "_________________________________________________________________\n",
      "dropout_2 (Dropout)          (None, 4096)              0         \n",
      "_________________________________________________________________\n",
      "dense_7 (Dense)              (None, 32)                131104    \n",
      "_________________________________________________________________\n",
      "batch_normalization_7 (Batch (None, 32)                128       \n",
      "_________________________________________________________________\n",
      "dropout_3 (Dropout)          (None, 32)                0         \n",
      "_________________________________________________________________\n",
      "predictions (Dense)          (None, 2)                 66        \n",
      "=================================================================\n",
      "Total params: 16,963,618\n",
      "Trainable params: 16,955,362\n",
      "Non-trainable params: 8,256\n",
      "_________________________________________________________________\n"
     ]
    }
   ],
   "source": [
    "model = Sequential()\n",
    "model.add(vgg)\n",
    "model.add(layers.Flatten())\n",
    "model.add(Dense(4096, activation='relu'))\n",
    "model.add(BatchNormalization())\n",
    "model.add(layers.Dropout(0.2))\n",
    "model.add(Dense(32, activation='relu'))\n",
    "model.add(BatchNormalization())\n",
    "model.add(layers.Dropout(0.2))\n",
    "model.add(Dense(2, activation='softmax', kernel_initializer='random_uniform', bias_initializer='random_uniform', bias_regularizer=regularizers.l2(0.01), name='predictions'))\n",
    "\n",
    "model.compile(loss='binary_crossentropy',\n",
    "              optimizer=tf.keras.optimizers.Adam(learning_rate=1e-5),\n",
    "              metrics=['accuracy'])\n",
    "\n",
    "model.summary()"
   ]
  },
  {
   "cell_type": "code",
   "execution_count": 42,
   "metadata": {
    "scrolled": true
   },
   "outputs": [
    {
     "name": "stdout",
     "output_type": "stream",
     "text": [
      "CPU times: user 30 µs, sys: 0 ns, total: 30 µs\n",
      "Wall time: 59.4 µs\n",
      "Epoch 1/50\n",
      "2955/2955 [==============================] - 103s 34ms/step - loss: 0.6024 - accuracy: 0.8064 - val_loss: 0.5172 - val_accuracy: 0.8905\n",
      "Epoch 2/50\n",
      "2955/2955 [==============================] - 99s 34ms/step - loss: 0.5326 - accuracy: 0.8606 - val_loss: 0.4231 - val_accuracy: 0.8974\n",
      "Epoch 3/50\n",
      "2955/2955 [==============================] - 100s 34ms/step - loss: 0.4815 - accuracy: 0.8765 - val_loss: 0.3615 - val_accuracy: 0.9094\n",
      "Epoch 4/50\n",
      "2955/2955 [==============================] - 100s 34ms/step - loss: 0.4356 - accuracy: 0.8887 - val_loss: 0.3116 - val_accuracy: 0.9122\n",
      "Epoch 5/50\n",
      "2955/2955 [==============================] - 100s 34ms/step - loss: 0.3980 - accuracy: 0.8953 - val_loss: 0.3154 - val_accuracy: 0.9115\n",
      "Epoch 6/50\n",
      "2955/2955 [==============================] - 100s 34ms/step - loss: 0.3628 - accuracy: 0.9004 - val_loss: 0.2988 - val_accuracy: 0.9136\n",
      "Epoch 7/50\n",
      "2955/2955 [==============================] - 100s 34ms/step - loss: 0.3376 - accuracy: 0.9035 - val_loss: 0.2464 - val_accuracy: 0.9103\n",
      "Epoch 8/50\n",
      "2955/2955 [==============================] - 100s 34ms/step - loss: 0.3162 - accuracy: 0.9063 - val_loss: 0.3216 - val_accuracy: 0.9001\n",
      "Epoch 9/50\n",
      "2955/2955 [==============================] - 100s 34ms/step - loss: 0.2963 - accuracy: 0.9079 - val_loss: 0.2300 - val_accuracy: 0.9160\n",
      "Epoch 10/50\n",
      "2955/2955 [==============================] - 99s 34ms/step - loss: 0.2771 - accuracy: 0.9105 - val_loss: 0.2451 - val_accuracy: 0.9141\n",
      "Epoch 11/50\n",
      "2955/2955 [==============================] - 99s 34ms/step - loss: 0.2623 - accuracy: 0.9108 - val_loss: 0.2632 - val_accuracy: 0.9109\n",
      "Epoch 12/50\n",
      "2955/2955 [==============================] - 100s 34ms/step - loss: 0.2505 - accuracy: 0.9146 - val_loss: 0.2450 - val_accuracy: 0.9074\n",
      "Epoch 13/50\n",
      "2955/2955 [==============================] - 99s 34ms/step - loss: 0.2402 - accuracy: 0.9155 - val_loss: 0.2162 - val_accuracy: 0.9174\n",
      "Epoch 14/50\n",
      "2955/2955 [==============================] - 100s 34ms/step - loss: 0.2296 - accuracy: 0.9171 - val_loss: 0.2352 - val_accuracy: 0.9152\n",
      "Epoch 15/50\n",
      "2955/2955 [==============================] - 100s 34ms/step - loss: 0.2243 - accuracy: 0.9176 - val_loss: 0.2379 - val_accuracy: 0.9086\n",
      "Epoch 16/50\n",
      "2955/2955 [==============================] - 100s 34ms/step - loss: 0.2163 - accuracy: 0.9213 - val_loss: 0.2196 - val_accuracy: 0.9177\n",
      "Epoch 17/50\n",
      "2955/2955 [==============================] - 99s 34ms/step - loss: 0.2122 - accuracy: 0.9213 - val_loss: 0.2404 - val_accuracy: 0.9083\n",
      "Epoch 18/50\n",
      "2955/2955 [==============================] - 100s 34ms/step - loss: 0.2074 - accuracy: 0.9228 - val_loss: 0.2205 - val_accuracy: 0.9141\n",
      "Epoch 19/50\n",
      "2955/2955 [==============================] - 100s 34ms/step - loss: 0.2038 - accuracy: 0.9241 - val_loss: 0.2140 - val_accuracy: 0.9183\n",
      "Epoch 20/50\n",
      "2955/2955 [==============================] - 100s 34ms/step - loss: 0.2001 - accuracy: 0.9249 - val_loss: 0.2096 - val_accuracy: 0.9201\n",
      "Epoch 21/50\n",
      "2955/2955 [==============================] - 100s 34ms/step - loss: 0.1963 - accuracy: 0.9262 - val_loss: 0.1928 - val_accuracy: 0.9261\n",
      "Epoch 22/50\n",
      "2955/2955 [==============================] - 100s 34ms/step - loss: 0.1937 - accuracy: 0.9272 - val_loss: 0.2141 - val_accuracy: 0.9156\n",
      "Epoch 23/50\n",
      "2955/2955 [==============================] - 100s 34ms/step - loss: 0.1905 - accuracy: 0.9287 - val_loss: 0.2025 - val_accuracy: 0.9220\n",
      "Epoch 24/50\n",
      "2955/2955 [==============================] - 99s 34ms/step - loss: 0.1876 - accuracy: 0.9298 - val_loss: 0.1930 - val_accuracy: 0.9264\n",
      "Epoch 25/50\n",
      "2955/2955 [==============================] - 99s 34ms/step - loss: 0.1832 - accuracy: 0.9313 - val_loss: 0.1994 - val_accuracy: 0.9255\n",
      "Epoch 26/50\n",
      "2955/2955 [==============================] - 100s 34ms/step - loss: 0.1787 - accuracy: 0.9330 - val_loss: 0.2203 - val_accuracy: 0.9141\n",
      "Epoch 27/50\n",
      "2955/2955 [==============================] - 100s 34ms/step - loss: 0.1766 - accuracy: 0.9349 - val_loss: 0.2041 - val_accuracy: 0.9260\n",
      "Epoch 28/50\n",
      "2955/2955 [==============================] - 100s 34ms/step - loss: 0.1723 - accuracy: 0.9359 - val_loss: 0.1867 - val_accuracy: 0.9300\n",
      "Epoch 29/50\n",
      "2955/2955 [==============================] - 100s 34ms/step - loss: 0.1709 - accuracy: 0.9364 - val_loss: 0.1984 - val_accuracy: 0.9274\n",
      "Epoch 30/50\n",
      "2955/2955 [==============================] - 100s 34ms/step - loss: 0.1688 - accuracy: 0.9375 - val_loss: 0.1886 - val_accuracy: 0.9294\n",
      "Epoch 31/50\n",
      "2955/2955 [==============================] - 99s 34ms/step - loss: 0.1658 - accuracy: 0.9387 - val_loss: 0.2081 - val_accuracy: 0.9228\n",
      "Epoch 32/50\n",
      "2955/2955 [==============================] - 99s 34ms/step - loss: 0.1631 - accuracy: 0.9400 - val_loss: 0.2039 - val_accuracy: 0.9233\n",
      "Epoch 33/50\n",
      "2955/2955 [==============================] - 100s 34ms/step - loss: 0.1586 - accuracy: 0.9419 - val_loss: 0.1850 - val_accuracy: 0.9292\n",
      "Epoch 34/50\n",
      "2955/2955 [==============================] - 99s 34ms/step - loss: 0.1557 - accuracy: 0.9433 - val_loss: 0.1948 - val_accuracy: 0.9295\n",
      "Epoch 35/50\n",
      "2955/2955 [==============================] - 99s 34ms/step - loss: 0.1552 - accuracy: 0.9429 - val_loss: 0.1879 - val_accuracy: 0.9305\n",
      "Epoch 36/50\n",
      "2955/2955 [==============================] - 100s 34ms/step - loss: 0.1523 - accuracy: 0.9441 - val_loss: 0.1997 - val_accuracy: 0.9254\n",
      "Epoch 37/50\n",
      "2955/2955 [==============================] - 100s 34ms/step - loss: 0.1499 - accuracy: 0.9454 - val_loss: 0.1845 - val_accuracy: 0.9324\n",
      "Epoch 38/50\n",
      "2955/2955 [==============================] - 99s 34ms/step - loss: 0.1470 - accuracy: 0.9463 - val_loss: 0.1924 - val_accuracy: 0.9291\n",
      "Epoch 39/50\n",
      "2955/2955 [==============================] - 99s 33ms/step - loss: 0.1442 - accuracy: 0.9474 - val_loss: 0.1882 - val_accuracy: 0.9331\n",
      "Epoch 40/50\n",
      "2955/2955 [==============================] - 100s 34ms/step - loss: 0.1421 - accuracy: 0.9489 - val_loss: 0.1878 - val_accuracy: 0.9309\n",
      "Epoch 41/50\n",
      "2955/2955 [==============================] - 100s 34ms/step - loss: 0.1400 - accuracy: 0.9494 - val_loss: 0.2015 - val_accuracy: 0.9251\n",
      "Epoch 42/50\n",
      "2955/2955 [==============================] - 100s 34ms/step - loss: 0.1365 - accuracy: 0.9506 - val_loss: 0.1855 - val_accuracy: 0.9327\n",
      "Epoch 43/50\n",
      "2955/2955 [==============================] - 100s 34ms/step - loss: 0.1343 - accuracy: 0.9519 - val_loss: 0.1769 - val_accuracy: 0.9356\n",
      "Epoch 44/50\n",
      "2955/2955 [==============================] - 100s 34ms/step - loss: 0.1320 - accuracy: 0.9521 - val_loss: 0.1883 - val_accuracy: 0.9304\n",
      "Epoch 45/50\n",
      "2955/2955 [==============================] - 99s 34ms/step - loss: 0.1308 - accuracy: 0.9530 - val_loss: 0.1897 - val_accuracy: 0.9337\n",
      "Epoch 46/50\n",
      "2955/2955 [==============================] - 100s 34ms/step - loss: 0.1269 - accuracy: 0.9541 - val_loss: 0.1905 - val_accuracy: 0.9307\n",
      "Epoch 47/50\n",
      "2955/2955 [==============================] - 100s 34ms/step - loss: 0.1266 - accuracy: 0.9553 - val_loss: 0.1783 - val_accuracy: 0.9366\n",
      "Epoch 48/50\n",
      "2955/2955 [==============================] - 100s 34ms/step - loss: 0.1241 - accuracy: 0.9552 - val_loss: 0.1917 - val_accuracy: 0.9328\n",
      "Epoch 49/50\n",
      "2955/2955 [==============================] - 100s 34ms/step - loss: 0.1198 - accuracy: 0.9575 - val_loss: 0.1950 - val_accuracy: 0.9289\n",
      "Epoch 50/50\n",
      "2955/2955 [==============================] - 100s 34ms/step - loss: 0.1196 - accuracy: 0.9577 - val_loss: 0.1952 - val_accuracy: 0.9292\n"
     ]
    }
   ],
   "source": [
    "%time\n",
    "history=model.fit(X_train, y_train,validation_data=(X_val, y_val),verbose = 1,epochs = 50, batch_size=32)"
   ]
  },
  {
   "cell_type": "code",
   "execution_count": 43,
   "metadata": {},
   "outputs": [
    {
     "data": {
      "image/png": "[encoded data removed]",
      "text/plain": [
       "<Figure size 360x288 with 2 Axes>"
      ]
     },
     "metadata": {
      "needs_background": "light"
     },
     "output_type": "display_data"
    }
   ],
   "source": [
    "plot_confusion_matrix(model, X_test, y_test)"
   ]
  },
  {
   "cell_type": "code",
   "execution_count": 44,
   "metadata": {},
   "outputs": [
    {
     "name": "stdout",
     "output_type": "stream",
     "text": [
      "              precision    recall  f1-score   support\n",
      "\n",
      "           0       0.94      0.98      0.96     26710\n",
      "           1       0.85      0.66      0.74      4805\n",
      "\n",
      "    accuracy                           0.93     31515\n",
      "   macro avg       0.90      0.82      0.85     31515\n",
      "weighted avg       0.93      0.93      0.93     31515\n",
      "\n"
     ]
    }
   ],
   "source": [
    "report(model, X_test, y_test)"
   ]
  },
  {
   "cell_type": "code",
   "execution_count": 45,
   "metadata": {},
   "outputs": [
    {
     "data": {
      "image/png": "[encoded data removed]",
      "text/plain": [
       "<Figure size 1080x360 with 2 Axes>"
      ]
     },
     "metadata": {
      "needs_background": "light"
     },
     "output_type": "display_data"
    }
   ],
   "source": [
    "plot_accuracy_loss(history)"
   ]
  },
  {
   "cell_type": "markdown",
   "metadata": {},
   "source": [
    "## RESNET-50"
   ]
  },
  {
   "cell_type": "code",
   "execution_count": 32,
   "metadata": {},
   "outputs": [
    {
     "name": "stdout",
     "output_type": "stream",
     "text": [
      "Model: \"resnet50\"\n",
      "__________________________________________________________________________________________________\n",
      "Layer (type)                    Output Shape         Param #     Connected to                     \n",
      "==================================================================================================\n",
      "input_1 (InputLayer)            [(None, 50, 50, 3)]  0                                            \n",
      "__________________________________________________________________________________________________\n",
      "img_augmentation (Sequential)   (None, 50, 50, 3)    0           input_1[0][0]                    \n",
      "__________________________________________________________________________________________________\n",
      "conv1_pad (ZeroPadding2D)       (None, 56, 56, 3)    0           img_augmentation[0][0]           \n",
      "__________________________________________________________________________________________________\n",
      "conv1_conv (Conv2D)             (None, 25, 25, 64)   9472        conv1_pad[0][0]                  \n",
      "__________________________________________________________________________________________________\n",
      "conv1_bn (BatchNormalization)   (None, 25, 25, 64)   256         conv1_conv[0][0]                 \n",
      "__________________________________________________________________________________________________\n",
      "conv1_relu (Activation)         (None, 25, 25, 64)   0           conv1_bn[0][0]                   \n",
      "__________________________________________________________________________________________________\n",
      "pool1_pad (ZeroPadding2D)       (None, 27, 27, 64)   0           conv1_relu[0][0]                 \n",
      "__________________________________________________________________________________________________\n",
      "pool1_pool (MaxPooling2D)       (None, 13, 13, 64)   0           pool1_pad[0][0]                  \n",
      "__________________________________________________________________________________________________\n",
      "conv2_block1_1_conv (Conv2D)    (None, 13, 13, 64)   4160        pool1_pool[0][0]                 \n",
      "__________________________________________________________________________________________________\n",
      "conv2_block1_1_bn (BatchNormali (None, 13, 13, 64)   256         conv2_block1_1_conv[0][0]        \n",
      "__________________________________________________________________________________________________\n",
      "conv2_block1_1_relu (Activation (None, 13, 13, 64)   0           conv2_block1_1_bn[0][0]          \n",
      "__________________________________________________________________________________________________\n",
      "conv2_block1_2_conv (Conv2D)    (None, 13, 13, 64)   36928       conv2_block1_1_relu[0][0]        \n",
      "__________________________________________________________________________________________________\n",
      "conv2_block1_2_bn (BatchNormali (None, 13, 13, 64)   256         conv2_block1_2_conv[0][0]        \n",
      "__________________________________________________________________________________________________\n",
      "conv2_block1_2_relu (Activation (None, 13, 13, 64)   0           conv2_block1_2_bn[0][0]          \n",
      "__________________________________________________________________________________________________\n",
      "conv2_block1_0_conv (Conv2D)    (None, 13, 13, 256)  16640       pool1_pool[0][0]                 \n",
      "__________________________________________________________________________________________________\n",
      "conv2_block1_3_conv (Conv2D)    (None, 13, 13, 256)  16640       conv2_block1_2_relu[0][0]        \n",
      "__________________________________________________________________________________________________\n",
      "conv2_block1_0_bn (BatchNormali (None, 13, 13, 256)  1024        conv2_block1_0_conv[0][0]        \n",
      "__________________________________________________________________________________________________\n",
      "conv2_block1_3_bn (BatchNormali (None, 13, 13, 256)  1024        conv2_block1_3_conv[0][0]        \n",
      "__________________________________________________________________________________________________\n",
      "conv2_block1_add (Add)          (None, 13, 13, 256)  0           conv2_block1_0_bn[0][0]          \n",
      "                                                                 conv2_block1_3_bn[0][0]          \n",
      "__________________________________________________________________________________________________\n",
      "conv2_block1_out (Activation)   (None, 13, 13, 256)  0           conv2_block1_add[0][0]           \n",
      "__________________________________________________________________________________________________\n",
      "conv2_block2_1_conv (Conv2D)    (None, 13, 13, 64)   16448       conv2_block1_out[0][0]           \n",
      "__________________________________________________________________________________________________\n",
      "conv2_block2_1_bn (BatchNormali (None, 13, 13, 64)   256         conv2_block2_1_conv[0][0]        \n",
      "__________________________________________________________________________________________________\n",
      "conv2_block2_1_relu (Activation (None, 13, 13, 64)   0           conv2_block2_1_bn[0][0]          \n",
      "__________________________________________________________________________________________________\n",
      "conv2_block2_2_conv (Conv2D)    (None, 13, 13, 64)   36928       conv2_block2_1_relu[0][0]        \n",
      "__________________________________________________________________________________________________\n",
      "conv2_block2_2_bn (BatchNormali (None, 13, 13, 64)   256         conv2_block2_2_conv[0][0]        \n",
      "__________________________________________________________________________________________________\n",
      "conv2_block2_2_relu (Activation (None, 13, 13, 64)   0           conv2_block2_2_bn[0][0]          \n",
      "__________________________________________________________________________________________________\n",
      "conv2_block2_3_conv (Conv2D)    (None, 13, 13, 256)  16640       conv2_block2_2_relu[0][0]        \n",
      "__________________________________________________________________________________________________\n",
      "conv2_block2_3_bn (BatchNormali (None, 13, 13, 256)  1024        conv2_block2_3_conv[0][0]        \n",
      "__________________________________________________________________________________________________\n",
      "conv2_block2_add (Add)          (None, 13, 13, 256)  0           conv2_block1_out[0][0]           \n",
      "                                                                 conv2_block2_3_bn[0][0]          \n",
      "__________________________________________________________________________________________________\n",
      "conv2_block2_out (Activation)   (None, 13, 13, 256)  0           conv2_block2_add[0][0]           \n",
      "__________________________________________________________________________________________________\n",
      "conv2_block3_1_conv (Conv2D)    (None, 13, 13, 64)   16448       conv2_block2_out[0][0]           \n",
      "__________________________________________________________________________________________________\n",
      "conv2_block3_1_bn (BatchNormali (None, 13, 13, 64)   256         conv2_block3_1_conv[0][0]        \n",
      "__________________________________________________________________________________________________\n",
      "conv2_block3_1_relu (Activation (None, 13, 13, 64)   0           conv2_block3_1_bn[0][0]          \n",
      "__________________________________________________________________________________________________\n",
      "conv2_block3_2_conv (Conv2D)    (None, 13, 13, 64)   36928       conv2_block3_1_relu[0][0]        \n",
      "__________________________________________________________________________________________________\n",
      "conv2_block3_2_bn (BatchNormali (None, 13, 13, 64)   256         conv2_block3_2_conv[0][0]        \n",
      "__________________________________________________________________________________________________\n",
      "conv2_block3_2_relu (Activation (None, 13, 13, 64)   0           conv2_block3_2_bn[0][0]          \n",
      "__________________________________________________________________________________________________\n",
      "conv2_block3_3_conv (Conv2D)    (None, 13, 13, 256)  16640       conv2_block3_2_relu[0][0]        \n",
      "__________________________________________________________________________________________________\n",
      "conv2_block3_3_bn (BatchNormali (None, 13, 13, 256)  1024        conv2_block3_3_conv[0][0]        \n",
      "__________________________________________________________________________________________________\n",
      "conv2_block3_add (Add)          (None, 13, 13, 256)  0           conv2_block2_out[0][0]           \n",
      "                                                                 conv2_block3_3_bn[0][0]          \n",
      "__________________________________________________________________________________________________\n",
      "conv2_block3_out (Activation)   (None, 13, 13, 256)  0           conv2_block3_add[0][0]           \n",
      "__________________________________________________________________________________________________\n",
      "conv3_block1_1_conv (Conv2D)    (None, 7, 7, 128)    32896       conv2_block3_out[0][0]           \n",
      "__________________________________________________________________________________________________\n",
      "conv3_block1_1_bn (BatchNormali (None, 7, 7, 128)    512         conv3_block1_1_conv[0][0]        \n",
      "__________________________________________________________________________________________________\n",
      "conv3_block1_1_relu (Activation (None, 7, 7, 128)    0           conv3_block1_1_bn[0][0]          \n",
      "__________________________________________________________________________________________________\n",
      "conv3_block1_2_conv (Conv2D)    (None, 7, 7, 128)    147584      conv3_block1_1_relu[0][0]        \n",
      "__________________________________________________________________________________________________\n",
      "conv3_block1_2_bn (BatchNormali (None, 7, 7, 128)    512         conv3_block1_2_conv[0][0]        \n",
      "__________________________________________________________________________________________________\n",
      "conv3_block1_2_relu (Activation (None, 7, 7, 128)    0           conv3_block1_2_bn[0][0]          \n",
      "__________________________________________________________________________________________________\n",
      "conv3_block1_0_conv (Conv2D)    (None, 7, 7, 512)    131584      conv2_block3_out[0][0]           \n",
      "__________________________________________________________________________________________________\n",
      "conv3_block1_3_conv (Conv2D)    (None, 7, 7, 512)    66048       conv3_block1_2_relu[0][0]        \n",
      "__________________________________________________________________________________________________\n",
      "conv3_block1_0_bn (BatchNormali (None, 7, 7, 512)    2048        conv3_block1_0_conv[0][0]        \n",
      "__________________________________________________________________________________________________\n",
      "conv3_block1_3_bn (BatchNormali (None, 7, 7, 512)    2048        conv3_block1_3_conv[0][0]        \n",
      "__________________________________________________________________________________________________\n",
      "conv3_block1_add (Add)          (None, 7, 7, 512)    0           conv3_block1_0_bn[0][0]          \n",
      "                                                                 conv3_block1_3_bn[0][0]          \n",
      "__________________________________________________________________________________________________\n",
      "conv3_block1_out (Activation)   (None, 7, 7, 512)    0           conv3_block1_add[0][0]           \n",
      "__________________________________________________________________________________________________\n",
      "conv3_block2_1_conv (Conv2D)    (None, 7, 7, 128)    65664       conv3_block1_out[0][0]           \n",
      "__________________________________________________________________________________________________\n",
      "conv3_block2_1_bn (BatchNormali (None, 7, 7, 128)    512         conv3_block2_1_conv[0][0]        \n",
      "__________________________________________________________________________________________________\n",
      "conv3_block2_1_relu (Activation (None, 7, 7, 128)    0           conv3_block2_1_bn[0][0]          \n",
      "__________________________________________________________________________________________________\n",
      "conv3_block2_2_conv (Conv2D)    (None, 7, 7, 128)    147584      conv3_block2_1_relu[0][0]        \n",
      "__________________________________________________________________________________________________\n",
      "conv3_block2_2_bn (BatchNormali (None, 7, 7, 128)    512         conv3_block2_2_conv[0][0]        \n",
      "__________________________________________________________________________________________________\n",
      "conv3_block2_2_relu (Activation (None, 7, 7, 128)    0           conv3_block2_2_bn[0][0]          \n",
      "__________________________________________________________________________________________________\n",
      "conv3_block2_3_conv (Conv2D)    (None, 7, 7, 512)    66048       conv3_block2_2_relu[0][0]        \n",
      "__________________________________________________________________________________________________\n",
      "conv3_block2_3_bn (BatchNormali (None, 7, 7, 512)    2048        conv3_block2_3_conv[0][0]        \n",
      "__________________________________________________________________________________________________\n",
      "conv3_block2_add (Add)          (None, 7, 7, 512)    0           conv3_block1_out[0][0]           \n",
      "                                                                 conv3_block2_3_bn[0][0]          \n",
      "__________________________________________________________________________________________________\n",
      "conv3_block2_out (Activation)   (None, 7, 7, 512)    0           conv3_block2_add[0][0]           \n",
      "__________________________________________________________________________________________________\n",
      "conv3_block3_1_conv (Conv2D)    (None, 7, 7, 128)    65664       conv3_block2_out[0][0]           \n",
      "__________________________________________________________________________________________________\n",
      "conv3_block3_1_bn (BatchNormali (None, 7, 7, 128)    512         conv3_block3_1_conv[0][0]        \n",
      "__________________________________________________________________________________________________\n",
      "conv3_block3_1_relu (Activation (None, 7, 7, 128)    0           conv3_block3_1_bn[0][0]          \n",
      "__________________________________________________________________________________________________\n",
      "conv3_block3_2_conv (Conv2D)    (None, 7, 7, 128)    147584      conv3_block3_1_relu[0][0]        \n",
      "__________________________________________________________________________________________________\n",
      "conv3_block3_2_bn (BatchNormali (None, 7, 7, 128)    512         conv3_block3_2_conv[0][0]        \n",
      "__________________________________________________________________________________________________\n",
      "conv3_block3_2_relu (Activation (None, 7, 7, 128)    0           conv3_block3_2_bn[0][0]          \n",
      "__________________________________________________________________________________________________\n",
      "conv3_block3_3_conv (Conv2D)    (None, 7, 7, 512)    66048       conv3_block3_2_relu[0][0]        \n",
      "__________________________________________________________________________________________________\n",
      "conv3_block3_3_bn (BatchNormali (None, 7, 7, 512)    2048        conv3_block3_3_conv[0][0]        \n",
      "__________________________________________________________________________________________________\n",
      "conv3_block3_add (Add)          (None, 7, 7, 512)    0           conv3_block2_out[0][0]           \n",
      "                                                                 conv3_block3_3_bn[0][0]          \n",
      "__________________________________________________________________________________________________\n",
      "conv3_block3_out (Activation)   (None, 7, 7, 512)    0           conv3_block3_add[0][0]           \n",
      "__________________________________________________________________________________________________\n",
      "conv3_block4_1_conv (Conv2D)    (None, 7, 7, 128)    65664       conv3_block3_out[0][0]           \n",
      "__________________________________________________________________________________________________\n",
      "conv3_block4_1_bn (BatchNormali (None, 7, 7, 128)    512         conv3_block4_1_conv[0][0]        \n",
      "__________________________________________________________________________________________________\n",
      "conv3_block4_1_relu (Activation (None, 7, 7, 128)    0           conv3_block4_1_bn[0][0]          \n",
      "__________________________________________________________________________________________________\n",
      "conv3_block4_2_conv (Conv2D)    (None, 7, 7, 128)    147584      conv3_block4_1_relu[0][0]        \n",
      "__________________________________________________________________________________________________\n",
      "conv3_block4_2_bn (BatchNormali (None, 7, 7, 128)    512         conv3_block4_2_conv[0][0]        \n",
      "__________________________________________________________________________________________________\n",
      "conv3_block4_2_relu (Activation (None, 7, 7, 128)    0           conv3_block4_2_bn[0][0]          \n",
      "__________________________________________________________________________________________________\n",
      "conv3_block4_3_conv (Conv2D)    (None, 7, 7, 512)    66048       conv3_block4_2_relu[0][0]        \n",
      "__________________________________________________________________________________________________\n",
      "conv3_block4_3_bn (BatchNormali (None, 7, 7, 512)    2048        conv3_block4_3_conv[0][0]        \n",
      "__________________________________________________________________________________________________\n",
      "conv3_block4_add (Add)          (None, 7, 7, 512)    0           conv3_block3_out[0][0]           \n",
      "                                                                 conv3_block4_3_bn[0][0]          \n",
      "__________________________________________________________________________________________________\n",
      "conv3_block4_out (Activation)   (None, 7, 7, 512)    0           conv3_block4_add[0][0]           \n",
      "__________________________________________________________________________________________________\n",
      "conv4_block1_1_conv (Conv2D)    (None, 4, 4, 256)    131328      conv3_block4_out[0][0]           \n",
      "__________________________________________________________________________________________________\n",
      "conv4_block1_1_bn (BatchNormali (None, 4, 4, 256)    1024        conv4_block1_1_conv[0][0]        \n",
      "__________________________________________________________________________________________________\n",
      "conv4_block1_1_relu (Activation (None, 4, 4, 256)    0           conv4_block1_1_bn[0][0]          \n",
      "__________________________________________________________________________________________________\n",
      "conv4_block1_2_conv (Conv2D)    (None, 4, 4, 256)    590080      conv4_block1_1_relu[0][0]        \n",
      "__________________________________________________________________________________________________\n",
      "conv4_block1_2_bn (BatchNormali (None, 4, 4, 256)    1024        conv4_block1_2_conv[0][0]        \n",
      "__________________________________________________________________________________________________\n",
      "conv4_block1_2_relu (Activation (None, 4, 4, 256)    0           conv4_block1_2_bn[0][0]          \n",
      "__________________________________________________________________________________________________\n",
      "conv4_block1_0_conv (Conv2D)    (None, 4, 4, 1024)   525312      conv3_block4_out[0][0]           \n",
      "__________________________________________________________________________________________________\n",
      "conv4_block1_3_conv (Conv2D)    (None, 4, 4, 1024)   263168      conv4_block1_2_relu[0][0]        \n",
      "__________________________________________________________________________________________________\n",
      "conv4_block1_0_bn (BatchNormali (None, 4, 4, 1024)   4096        conv4_block1_0_conv[0][0]        \n",
      "__________________________________________________________________________________________________\n",
      "conv4_block1_3_bn (BatchNormali (None, 4, 4, 1024)   4096        conv4_block1_3_conv[0][0]        \n",
      "__________________________________________________________________________________________________\n",
      "conv4_block1_add (Add)          (None, 4, 4, 1024)   0           conv4_block1_0_bn[0][0]          \n",
      "                                                                 conv4_block1_3_bn[0][0]          \n",
      "__________________________________________________________________________________________________\n",
      "conv4_block1_out (Activation)   (None, 4, 4, 1024)   0           conv4_block1_add[0][0]           \n",
      "__________________________________________________________________________________________________\n",
      "conv4_block2_1_conv (Conv2D)    (None, 4, 4, 256)    262400      conv4_block1_out[0][0]           \n",
      "__________________________________________________________________________________________________\n",
      "conv4_block2_1_bn (BatchNormali (None, 4, 4, 256)    1024        conv4_block2_1_conv[0][0]        \n",
      "__________________________________________________________________________________________________\n",
      "conv4_block2_1_relu (Activation (None, 4, 4, 256)    0           conv4_block2_1_bn[0][0]          \n",
      "__________________________________________________________________________________________________\n",
      "conv4_block2_2_conv (Conv2D)    (None, 4, 4, 256)    590080      conv4_block2_1_relu[0][0]        \n",
      "__________________________________________________________________________________________________\n",
      "conv4_block2_2_bn (BatchNormali (None, 4, 4, 256)    1024        conv4_block2_2_conv[0][0]        \n",
      "__________________________________________________________________________________________________\n",
      "conv4_block2_2_relu (Activation (None, 4, 4, 256)    0           conv4_block2_2_bn[0][0]          \n",
      "__________________________________________________________________________________________________\n",
      "conv4_block2_3_conv (Conv2D)    (None, 4, 4, 1024)   263168      conv4_block2_2_relu[0][0]        \n",
      "__________________________________________________________________________________________________\n",
      "conv4_block2_3_bn (BatchNormali (None, 4, 4, 1024)   4096        conv4_block2_3_conv[0][0]        \n",
      "__________________________________________________________________________________________________\n",
      "conv4_block2_add (Add)          (None, 4, 4, 1024)   0           conv4_block1_out[0][0]           \n",
      "                                                                 conv4_block2_3_bn[0][0]          \n",
      "__________________________________________________________________________________________________\n",
      "conv4_block2_out (Activation)   (None, 4, 4, 1024)   0           conv4_block2_add[0][0]           \n",
      "__________________________________________________________________________________________________\n",
      "conv4_block3_1_conv (Conv2D)    (None, 4, 4, 256)    262400      conv4_block2_out[0][0]           \n",
      "__________________________________________________________________________________________________\n",
      "conv4_block3_1_bn (BatchNormali (None, 4, 4, 256)    1024        conv4_block3_1_conv[0][0]        \n",
      "__________________________________________________________________________________________________\n",
      "conv4_block3_1_relu (Activation (None, 4, 4, 256)    0           conv4_block3_1_bn[0][0]          \n",
      "__________________________________________________________________________________________________\n",
      "conv4_block3_2_conv (Conv2D)    (None, 4, 4, 256)    590080      conv4_block3_1_relu[0][0]        \n",
      "__________________________________________________________________________________________________\n",
      "conv4_block3_2_bn (BatchNormali (None, 4, 4, 256)    1024        conv4_block3_2_conv[0][0]        \n",
      "__________________________________________________________________________________________________\n",
      "conv4_block3_2_relu (Activation (None, 4, 4, 256)    0           conv4_block3_2_bn[0][0]          \n",
      "__________________________________________________________________________________________________\n",
      "conv4_block3_3_conv (Conv2D)    (None, 4, 4, 1024)   263168      conv4_block3_2_relu[0][0]        \n",
      "__________________________________________________________________________________________________\n",
      "conv4_block3_3_bn (BatchNormali (None, 4, 4, 1024)   4096        conv4_block3_3_conv[0][0]        \n",
      "__________________________________________________________________________________________________\n",
      "conv4_block3_add (Add)          (None, 4, 4, 1024)   0           conv4_block2_out[0][0]           \n",
      "                                                                 conv4_block3_3_bn[0][0]          \n",
      "__________________________________________________________________________________________________\n",
      "conv4_block3_out (Activation)   (None, 4, 4, 1024)   0           conv4_block3_add[0][0]           \n",
      "__________________________________________________________________________________________________\n",
      "conv4_block4_1_conv (Conv2D)    (None, 4, 4, 256)    262400      conv4_block3_out[0][0]           \n",
      "__________________________________________________________________________________________________\n",
      "conv4_block4_1_bn (BatchNormali (None, 4, 4, 256)    1024        conv4_block4_1_conv[0][0]        \n",
      "__________________________________________________________________________________________________\n",
      "conv4_block4_1_relu (Activation (None, 4, 4, 256)    0           conv4_block4_1_bn[0][0]          \n",
      "__________________________________________________________________________________________________\n",
      "conv4_block4_2_conv (Conv2D)    (None, 4, 4, 256)    590080      conv4_block4_1_relu[0][0]        \n",
      "__________________________________________________________________________________________________\n",
      "conv4_block4_2_bn (BatchNormali (None, 4, 4, 256)    1024        conv4_block4_2_conv[0][0]        \n",
      "__________________________________________________________________________________________________\n",
      "conv4_block4_2_relu (Activation (None, 4, 4, 256)    0           conv4_block4_2_bn[0][0]          \n",
      "__________________________________________________________________________________________________\n",
      "conv4_block4_3_conv (Conv2D)    (None, 4, 4, 1024)   263168      conv4_block4_2_relu[0][0]        \n",
      "__________________________________________________________________________________________________\n",
      "conv4_block4_3_bn (BatchNormali (None, 4, 4, 1024)   4096        conv4_block4_3_conv[0][0]        \n",
      "__________________________________________________________________________________________________\n",
      "conv4_block4_add (Add)          (None, 4, 4, 1024)   0           conv4_block3_out[0][0]           \n",
      "                                                                 conv4_block4_3_bn[0][0]          \n",
      "__________________________________________________________________________________________________\n",
      "conv4_block4_out (Activation)   (None, 4, 4, 1024)   0           conv4_block4_add[0][0]           \n",
      "__________________________________________________________________________________________________\n",
      "conv4_block5_1_conv (Conv2D)    (None, 4, 4, 256)    262400      conv4_block4_out[0][0]           \n",
      "__________________________________________________________________________________________________\n",
      "conv4_block5_1_bn (BatchNormali (None, 4, 4, 256)    1024        conv4_block5_1_conv[0][0]        \n",
      "__________________________________________________________________________________________________\n",
      "conv4_block5_1_relu (Activation (None, 4, 4, 256)    0           conv4_block5_1_bn[0][0]          \n",
      "__________________________________________________________________________________________________\n",
      "conv4_block5_2_conv (Conv2D)    (None, 4, 4, 256)    590080      conv4_block5_1_relu[0][0]        \n",
      "__________________________________________________________________________________________________\n",
      "conv4_block5_2_bn (BatchNormali (None, 4, 4, 256)    1024        conv4_block5_2_conv[0][0]        \n",
      "__________________________________________________________________________________________________\n",
      "conv4_block5_2_relu (Activation (None, 4, 4, 256)    0           conv4_block5_2_bn[0][0]          \n",
      "__________________________________________________________________________________________________\n",
      "conv4_block5_3_conv (Conv2D)    (None, 4, 4, 1024)   263168      conv4_block5_2_relu[0][0]        \n",
      "__________________________________________________________________________________________________\n",
      "conv4_block5_3_bn (BatchNormali (None, 4, 4, 1024)   4096        conv4_block5_3_conv[0][0]        \n",
      "__________________________________________________________________________________________________\n",
      "conv4_block5_add (Add)          (None, 4, 4, 1024)   0           conv4_block4_out[0][0]           \n",
      "                                                                 conv4_block5_3_bn[0][0]          \n",
      "__________________________________________________________________________________________________\n",
      "conv4_block5_out (Activation)   (None, 4, 4, 1024)   0           conv4_block5_add[0][0]           \n",
      "__________________________________________________________________________________________________\n",
      "conv4_block6_1_conv (Conv2D)    (None, 4, 4, 256)    262400      conv4_block5_out[0][0]           \n",
      "__________________________________________________________________________________________________\n",
      "conv4_block6_1_bn (BatchNormali (None, 4, 4, 256)    1024        conv4_block6_1_conv[0][0]        \n",
      "__________________________________________________________________________________________________\n",
      "conv4_block6_1_relu (Activation (None, 4, 4, 256)    0           conv4_block6_1_bn[0][0]          \n",
      "__________________________________________________________________________________________________\n",
      "conv4_block6_2_conv (Conv2D)    (None, 4, 4, 256)    590080      conv4_block6_1_relu[0][0]        \n",
      "__________________________________________________________________________________________________\n",
      "conv4_block6_2_bn (BatchNormali (None, 4, 4, 256)    1024        conv4_block6_2_conv[0][0]        \n",
      "__________________________________________________________________________________________________\n",
      "conv4_block6_2_relu (Activation (None, 4, 4, 256)    0           conv4_block6_2_bn[0][0]          \n",
      "__________________________________________________________________________________________________\n",
      "conv4_block6_3_conv (Conv2D)    (None, 4, 4, 1024)   263168      conv4_block6_2_relu[0][0]        \n",
      "__________________________________________________________________________________________________\n",
      "conv4_block6_3_bn (BatchNormali (None, 4, 4, 1024)   4096        conv4_block6_3_conv[0][0]        \n",
      "__________________________________________________________________________________________________\n",
      "conv4_block6_add (Add)          (None, 4, 4, 1024)   0           conv4_block5_out[0][0]           \n",
      "                                                                 conv4_block6_3_bn[0][0]          \n",
      "__________________________________________________________________________________________________\n",
      "conv4_block6_out (Activation)   (None, 4, 4, 1024)   0           conv4_block6_add[0][0]           \n",
      "__________________________________________________________________________________________________\n",
      "conv5_block1_1_conv (Conv2D)    (None, 2, 2, 512)    524800      conv4_block6_out[0][0]           \n",
      "__________________________________________________________________________________________________\n",
      "conv5_block1_1_bn (BatchNormali (None, 2, 2, 512)    2048        conv5_block1_1_conv[0][0]        \n",
      "__________________________________________________________________________________________________\n",
      "conv5_block1_1_relu (Activation (None, 2, 2, 512)    0           conv5_block1_1_bn[0][0]          \n",
      "__________________________________________________________________________________________________\n",
      "conv5_block1_2_conv (Conv2D)    (None, 2, 2, 512)    2359808     conv5_block1_1_relu[0][0]        \n",
      "__________________________________________________________________________________________________\n",
      "conv5_block1_2_bn (BatchNormali (None, 2, 2, 512)    2048        conv5_block1_2_conv[0][0]        \n",
      "__________________________________________________________________________________________________\n",
      "conv5_block1_2_relu (Activation (None, 2, 2, 512)    0           conv5_block1_2_bn[0][0]          \n",
      "__________________________________________________________________________________________________\n",
      "conv5_block1_0_conv (Conv2D)    (None, 2, 2, 2048)   2099200     conv4_block6_out[0][0]           \n",
      "__________________________________________________________________________________________________\n",
      "conv5_block1_3_conv (Conv2D)    (None, 2, 2, 2048)   1050624     conv5_block1_2_relu[0][0]        \n",
      "__________________________________________________________________________________________________\n",
      "conv5_block1_0_bn (BatchNormali (None, 2, 2, 2048)   8192        conv5_block1_0_conv[0][0]        \n",
      "__________________________________________________________________________________________________\n",
      "conv5_block1_3_bn (BatchNormali (None, 2, 2, 2048)   8192        conv5_block1_3_conv[0][0]        \n",
      "__________________________________________________________________________________________________\n",
      "conv5_block1_add (Add)          (None, 2, 2, 2048)   0           conv5_block1_0_bn[0][0]          \n",
      "                                                                 conv5_block1_3_bn[0][0]          \n",
      "__________________________________________________________________________________________________\n",
      "conv5_block1_out (Activation)   (None, 2, 2, 2048)   0           conv5_block1_add[0][0]           \n",
      "__________________________________________________________________________________________________\n",
      "conv5_block2_1_conv (Conv2D)    (None, 2, 2, 512)    1049088     conv5_block1_out[0][0]           \n",
      "__________________________________________________________________________________________________\n",
      "conv5_block2_1_bn (BatchNormali (None, 2, 2, 512)    2048        conv5_block2_1_conv[0][0]        \n",
      "__________________________________________________________________________________________________\n",
      "conv5_block2_1_relu (Activation (None, 2, 2, 512)    0           conv5_block2_1_bn[0][0]          \n",
      "__________________________________________________________________________________________________\n",
      "conv5_block2_2_conv (Conv2D)    (None, 2, 2, 512)    2359808     conv5_block2_1_relu[0][0]        \n",
      "__________________________________________________________________________________________________\n",
      "conv5_block2_2_bn (BatchNormali (None, 2, 2, 512)    2048        conv5_block2_2_conv[0][0]        \n",
      "__________________________________________________________________________________________________\n",
      "conv5_block2_2_relu (Activation (None, 2, 2, 512)    0           conv5_block2_2_bn[0][0]          \n",
      "__________________________________________________________________________________________________\n",
      "conv5_block2_3_conv (Conv2D)    (None, 2, 2, 2048)   1050624     conv5_block2_2_relu[0][0]        \n",
      "__________________________________________________________________________________________________\n",
      "conv5_block2_3_bn (BatchNormali (None, 2, 2, 2048)   8192        conv5_block2_3_conv[0][0]        \n",
      "__________________________________________________________________________________________________\n",
      "conv5_block2_add (Add)          (None, 2, 2, 2048)   0           conv5_block1_out[0][0]           \n",
      "                                                                 conv5_block2_3_bn[0][0]          \n",
      "__________________________________________________________________________________________________\n",
      "conv5_block2_out (Activation)   (None, 2, 2, 2048)   0           conv5_block2_add[0][0]           \n",
      "__________________________________________________________________________________________________\n",
      "conv5_block3_1_conv (Conv2D)    (None, 2, 2, 512)    1049088     conv5_block2_out[0][0]           \n",
      "__________________________________________________________________________________________________\n",
      "conv5_block3_1_bn (BatchNormali (None, 2, 2, 512)    2048        conv5_block3_1_conv[0][0]        \n",
      "__________________________________________________________________________________________________\n",
      "conv5_block3_1_relu (Activation (None, 2, 2, 512)    0           conv5_block3_1_bn[0][0]          \n",
      "__________________________________________________________________________________________________\n",
      "conv5_block3_2_conv (Conv2D)    (None, 2, 2, 512)    2359808     conv5_block3_1_relu[0][0]        \n",
      "__________________________________________________________________________________________________\n",
      "conv5_block3_2_bn (BatchNormali (None, 2, 2, 512)    2048        conv5_block3_2_conv[0][0]        \n",
      "__________________________________________________________________________________________________\n",
      "conv5_block3_2_relu (Activation (None, 2, 2, 512)    0           conv5_block3_2_bn[0][0]          \n",
      "__________________________________________________________________________________________________\n",
      "conv5_block3_3_conv (Conv2D)    (None, 2, 2, 2048)   1050624     conv5_block3_2_relu[0][0]        \n",
      "__________________________________________________________________________________________________\n",
      "conv5_block3_3_bn (BatchNormali (None, 2, 2, 2048)   8192        conv5_block3_3_conv[0][0]        \n",
      "__________________________________________________________________________________________________\n",
      "conv5_block3_add (Add)          (None, 2, 2, 2048)   0           conv5_block2_out[0][0]           \n",
      "                                                                 conv5_block3_3_bn[0][0]          \n",
      "__________________________________________________________________________________________________\n",
      "conv5_block3_out (Activation)   (None, 2, 2, 2048)   0           conv5_block3_add[0][0]           \n",
      "==================================================================================================\n",
      "Total params: 23,587,712\n",
      "Trainable params: 23,534,592\n",
      "Non-trainable params: 53,120\n",
      "__________________________________________________________________________________________________\n"
     ]
    }
   ],
   "source": [
    "restnet = ResNet50(include_top=False, weights='imagenet', input_tensor=input_tensor, pooling=None, classes=NUM_CLASSES)\n",
    "\n",
    "restnet.trainable = True\n",
    "\n",
    "restnet.summary()"
   ]
  },
  {
   "cell_type": "code",
   "execution_count": 35,
   "metadata": {},
   "outputs": [
    {
     "name": "stdout",
     "output_type": "stream",
     "text": [
      "Model: \"sequential_2\"\n",
      "_________________________________________________________________\n",
      "Layer (type)                 Output Shape              Param #   \n",
      "=================================================================\n",
      "resnet50 (Functional)        (None, 2, 2, 2048)        23587712  \n",
      "_________________________________________________________________\n",
      "flatten_1 (Flatten)          (None, 8192)              0         \n",
      "_________________________________________________________________\n",
      "dense_4 (Dense)              (None, 4096)              33558528  \n",
      "_________________________________________________________________\n",
      "batch_normalization_4 (Batch (None, 4096)              16384     \n",
      "_________________________________________________________________\n",
      "dropout (Dropout)            (None, 4096)              0         \n",
      "_________________________________________________________________\n",
      "dense_5 (Dense)              (None, 32)                131104    \n",
      "_________________________________________________________________\n",
      "batch_normalization_5 (Batch (None, 32)                128       \n",
      "_________________________________________________________________\n",
      "dropout_1 (Dropout)          (None, 32)                0         \n",
      "_________________________________________________________________\n",
      "predictions (Dense)          (None, 2)                 66        \n",
      "=================================================================\n",
      "Total params: 57,293,922\n",
      "Trainable params: 57,232,546\n",
      "Non-trainable params: 61,376\n",
      "_________________________________________________________________\n"
     ]
    }
   ],
   "source": [
    "import tensorflow as tf\n",
    "\n",
    "model = Sequential()\n",
    "model.add(restnet)\n",
    "model.add(layers.Flatten())\n",
    "model.add(Dense(4096, activation='relu'))\n",
    "model.add(BatchNormalization())\n",
    "model.add(layers.Dropout(0.2))\n",
    "model.add(Dense(32, activation='relu'))\n",
    "model.add(BatchNormalization())\n",
    "model.add(layers.Dropout(0.2))\n",
    "model.add(Dense(2, activation='softmax', kernel_initializer='random_uniform', bias_initializer='random_uniform', bias_regularizer=regularizers.l2(0.01), name='predictions'))\n",
    "\n",
    "model.compile(loss='binary_crossentropy',\n",
    "              optimizer=tf.keras.optimizers.Adam(learning_rate=1e-5),\n",
    "              metrics=['accuracy'])\n",
    "\n",
    "model.summary()"
   ]
  },
  {
   "cell_type": "code",
   "execution_count": 36,
   "metadata": {},
   "outputs": [
    {
     "name": "stdout",
     "output_type": "stream",
     "text": [
      "CPU times: user 28 µs, sys: 0 ns, total: 28 µs\n",
      "Wall time: 55.3 µs\n",
      "Epoch 1/50\n",
      "2955/2955 [==============================] - 186s 61ms/step - loss: 0.5974 - accuracy: 0.7938 - val_loss: 0.5284 - val_accuracy: 0.8565\n",
      "Epoch 2/50\n",
      "2955/2955 [==============================] - 177s 60ms/step - loss: 0.5220 - accuracy: 0.8670 - val_loss: 0.4905 - val_accuracy: 0.8868\n",
      "Epoch 3/50\n",
      "2955/2955 [==============================] - 175s 59ms/step - loss: 0.4688 - accuracy: 0.8858 - val_loss: 0.4119 - val_accuracy: 0.9053\n",
      "Epoch 4/50\n",
      "2955/2955 [==============================] - 179s 61ms/step - loss: 0.4241 - accuracy: 0.8964 - val_loss: 0.3554 - val_accuracy: 0.9129\n",
      "Epoch 5/50\n",
      "2955/2955 [==============================] - 176s 60ms/step - loss: 0.3895 - accuracy: 0.9024 - val_loss: 0.3408 - val_accuracy: 0.9139\n",
      "Epoch 6/50\n",
      "2955/2955 [==============================] - 178s 60ms/step - loss: 0.3600 - accuracy: 0.9060 - val_loss: 0.3543 - val_accuracy: 0.9144\n",
      "Epoch 7/50\n",
      "2955/2955 [==============================] - 178s 60ms/step - loss: 0.3349 - accuracy: 0.9105 - val_loss: 0.2967 - val_accuracy: 0.9152\n",
      "Epoch 8/50\n",
      "2955/2955 [==============================] - 177s 60ms/step - loss: 0.3177 - accuracy: 0.9118 - val_loss: 0.2896 - val_accuracy: 0.9172\n",
      "Epoch 9/50\n",
      "2955/2955 [==============================] - 179s 60ms/step - loss: 0.2986 - accuracy: 0.9131 - val_loss: 0.2604 - val_accuracy: 0.9178\n",
      "Epoch 10/50\n",
      "2955/2955 [==============================] - 177s 60ms/step - loss: 0.2770 - accuracy: 0.9146 - val_loss: 0.2617 - val_accuracy: 0.9162\n",
      "Epoch 11/50\n",
      "2955/2955 [==============================] - 176s 60ms/step - loss: 0.2595 - accuracy: 0.9159 - val_loss: 0.2569 - val_accuracy: 0.9176\n",
      "Epoch 12/50\n",
      "2955/2955 [==============================] - 177s 60ms/step - loss: 0.2436 - accuracy: 0.9166 - val_loss: 0.2676 - val_accuracy: 0.9191\n",
      "Epoch 13/50\n",
      "2955/2955 [==============================] - 177s 60ms/step - loss: 0.2301 - accuracy: 0.9187 - val_loss: 0.2166 - val_accuracy: 0.9222\n",
      "Epoch 14/50\n",
      "2955/2955 [==============================] - 178s 60ms/step - loss: 0.2227 - accuracy: 0.9207 - val_loss: 0.2209 - val_accuracy: 0.9217\n",
      "Epoch 15/50\n",
      "2955/2955 [==============================] - 179s 61ms/step - loss: 0.2151 - accuracy: 0.9212 - val_loss: 0.2157 - val_accuracy: 0.9204\n",
      "Epoch 16/50\n",
      "2955/2955 [==============================] - 177s 60ms/step - loss: 0.2066 - accuracy: 0.9238 - val_loss: 0.2073 - val_accuracy: 0.9227\n",
      "Epoch 17/50\n",
      "2955/2955 [==============================] - 175s 59ms/step - loss: 0.2024 - accuracy: 0.9244 - val_loss: 0.2117 - val_accuracy: 0.9234\n",
      "Epoch 18/50\n",
      "2955/2955 [==============================] - 176s 60ms/step - loss: 0.1986 - accuracy: 0.9254 - val_loss: 0.2010 - val_accuracy: 0.9233\n",
      "Epoch 19/50\n",
      "2955/2955 [==============================] - 180s 61ms/step - loss: 0.1943 - accuracy: 0.9265 - val_loss: 0.1994 - val_accuracy: 0.9247\n",
      "Epoch 20/50\n",
      "2955/2955 [==============================] - 181s 61ms/step - loss: 0.1912 - accuracy: 0.9282 - val_loss: 0.1958 - val_accuracy: 0.9265\n",
      "Epoch 21/50\n",
      "2955/2955 [==============================] - 180s 61ms/step - loss: 0.1861 - accuracy: 0.9299 - val_loss: 0.1960 - val_accuracy: 0.9253\n",
      "Epoch 22/50\n",
      "2955/2955 [==============================] - 178s 60ms/step - loss: 0.1840 - accuracy: 0.9309 - val_loss: 0.1923 - val_accuracy: 0.9265\n",
      "Epoch 23/50\n",
      "2955/2955 [==============================] - 179s 61ms/step - loss: 0.1807 - accuracy: 0.9315 - val_loss: 0.1931 - val_accuracy: 0.9268\n",
      "Epoch 24/50\n",
      "2955/2955 [==============================] - 179s 61ms/step - loss: 0.1784 - accuracy: 0.9322 - val_loss: 0.1925 - val_accuracy: 0.9266\n",
      "Epoch 25/50\n",
      "2955/2955 [==============================] - 179s 61ms/step - loss: 0.1747 - accuracy: 0.9345 - val_loss: 0.1896 - val_accuracy: 0.9281\n",
      "Epoch 26/50\n",
      "2955/2955 [==============================] - 179s 61ms/step - loss: 0.1705 - accuracy: 0.9360 - val_loss: 0.1917 - val_accuracy: 0.9284\n",
      "Epoch 27/50\n",
      "2955/2955 [==============================] - 177s 60ms/step - loss: 0.1687 - accuracy: 0.9362 - val_loss: 0.1885 - val_accuracy: 0.9304\n",
      "Epoch 28/50\n",
      "2955/2955 [==============================] - 177s 60ms/step - loss: 0.1663 - accuracy: 0.9378 - val_loss: 0.1875 - val_accuracy: 0.9278\n",
      "Epoch 29/50\n",
      "2955/2955 [==============================] - 179s 60ms/step - loss: 0.1638 - accuracy: 0.9383 - val_loss: 0.1874 - val_accuracy: 0.9280\n",
      "Epoch 30/50\n",
      "2955/2955 [==============================] - 176s 60ms/step - loss: 0.1613 - accuracy: 0.9395 - val_loss: 0.1845 - val_accuracy: 0.9312\n",
      "Epoch 31/50\n",
      "2955/2955 [==============================] - 177s 60ms/step - loss: 0.1589 - accuracy: 0.9403 - val_loss: 0.1837 - val_accuracy: 0.9308\n",
      "Epoch 32/50\n",
      "2955/2955 [==============================] - 175s 59ms/step - loss: 0.1569 - accuracy: 0.9407 - val_loss: 0.1809 - val_accuracy: 0.9326\n",
      "Epoch 33/50\n",
      "2955/2955 [==============================] - 177s 60ms/step - loss: 0.1540 - accuracy: 0.9420 - val_loss: 0.1895 - val_accuracy: 0.9297\n",
      "Epoch 34/50\n",
      "2955/2955 [==============================] - 178s 60ms/step - loss: 0.1523 - accuracy: 0.9430 - val_loss: 0.1883 - val_accuracy: 0.9322\n",
      "Epoch 35/50\n",
      "2955/2955 [==============================] - 178s 60ms/step - loss: 0.1488 - accuracy: 0.9445 - val_loss: 0.1842 - val_accuracy: 0.9331\n",
      "Epoch 36/50\n",
      "2955/2955 [==============================] - 178s 60ms/step - loss: 0.1466 - accuracy: 0.9455 - val_loss: 0.1850 - val_accuracy: 0.9330\n",
      "Epoch 37/50\n",
      "2955/2955 [==============================] - 177s 60ms/step - loss: 0.1450 - accuracy: 0.9457 - val_loss: 0.1832 - val_accuracy: 0.9350\n",
      "Epoch 38/50\n",
      "2955/2955 [==============================] - 177s 60ms/step - loss: 0.1421 - accuracy: 0.9473 - val_loss: 0.1819 - val_accuracy: 0.9325\n",
      "Epoch 39/50\n",
      "2955/2955 [==============================] - 175s 59ms/step - loss: 0.1392 - accuracy: 0.9482 - val_loss: 0.1856 - val_accuracy: 0.9340\n",
      "Epoch 40/50\n",
      "2955/2955 [==============================] - 178s 60ms/step - loss: 0.1370 - accuracy: 0.9497 - val_loss: 0.1893 - val_accuracy: 0.9330\n",
      "Epoch 41/50\n",
      "2955/2955 [==============================] - 179s 61ms/step - loss: 0.1367 - accuracy: 0.9493 - val_loss: 0.1852 - val_accuracy: 0.9329\n",
      "Epoch 42/50\n",
      "2955/2955 [==============================] - 176s 60ms/step - loss: 0.1340 - accuracy: 0.9507 - val_loss: 0.1819 - val_accuracy: 0.9365\n",
      "Epoch 43/50\n",
      "2955/2955 [==============================] - 176s 60ms/step - loss: 0.1321 - accuracy: 0.9521 - val_loss: 0.1806 - val_accuracy: 0.9373\n",
      "Epoch 44/50\n",
      "2955/2955 [==============================] - 174s 59ms/step - loss: 0.1293 - accuracy: 0.9527 - val_loss: 0.1786 - val_accuracy: 0.9374\n",
      "Epoch 45/50\n",
      "2955/2955 [==============================] - 179s 61ms/step - loss: 0.1285 - accuracy: 0.9521 - val_loss: 0.1831 - val_accuracy: 0.9362\n",
      "Epoch 46/50\n",
      "2955/2955 [==============================] - 176s 60ms/step - loss: 0.1273 - accuracy: 0.9532 - val_loss: 0.1815 - val_accuracy: 0.9386\n",
      "Epoch 47/50\n",
      "2955/2955 [==============================] - 177s 60ms/step - loss: 0.1241 - accuracy: 0.9547 - val_loss: 0.1826 - val_accuracy: 0.9362\n",
      "Epoch 48/50\n",
      "2955/2955 [==============================] - 177s 60ms/step - loss: 0.1230 - accuracy: 0.9550 - val_loss: 0.1786 - val_accuracy: 0.9361\n",
      "Epoch 49/50\n",
      "2955/2955 [==============================] - 178s 60ms/step - loss: 0.1214 - accuracy: 0.9557 - val_loss: 0.1829 - val_accuracy: 0.9357\n",
      "Epoch 50/50\n",
      "2955/2955 [==============================] - 178s 60ms/step - loss: 0.1191 - accuracy: 0.9569 - val_loss: 0.1870 - val_accuracy: 0.9369\n"
     ]
    }
   ],
   "source": [
    "%time\n",
    "history = model.fit(X_train, y_train,validation_data=(X_val, y_val),verbose = 1,epochs = 50, batch_size=32)"
   ]
  },
  {
   "cell_type": "code",
   "execution_count": 37,
   "metadata": {},
   "outputs": [
    {
     "data": {
      "image/png": "[encoded data removed]",
      "text/plain": [
       "<Figure size 360x288 with 2 Axes>"
      ]
     },
     "metadata": {
      "needs_background": "light"
     },
     "output_type": "display_data"
    }
   ],
   "source": [
    "plot_confusion_matrix(model, X_test, y_test)"
   ]
  },
  {
   "cell_type": "code",
   "execution_count": 38,
   "metadata": {},
   "outputs": [
    {
     "name": "stdout",
     "output_type": "stream",
     "text": [
      "              precision    recall  f1-score   support\n",
      "\n",
      "           0       0.95      0.97      0.96     26710\n",
      "           1       0.84      0.73      0.78      4805\n",
      "\n",
      "    accuracy                           0.94     31515\n",
      "   macro avg       0.89      0.85      0.87     31515\n",
      "weighted avg       0.93      0.94      0.93     31515\n",
      "\n"
     ]
    }
   ],
   "source": [
    "report(model, X_test, y_test)"
   ]
  },
  {
   "cell_type": "code",
   "execution_count": 39,
   "metadata": {},
   "outputs": [
    {
     "data": {
      "image/png": "[encoded data removed]",
      "text/plain": [
       "<Figure size 1080x360 with 2 Axes>"
      ]
     },
     "metadata": {
      "needs_background": "light"
     },
     "output_type": "display_data"
    }
   ],
   "source": [
    "plot_accuracy_loss(history)"
   ]
  },
  {
   "cell_type": "markdown",
   "metadata": {},
   "source": [
    "## Efficient Net"
   ]
  },
  {
   "cell_type": "code",
   "execution_count": 22,
   "metadata": {},
   "outputs": [],
   "source": [
    "def build_model(num_classes):\n",
    "#     inputs = layers.Input(shape=(IMG_SIZE, IMG_SIZE, 3))\n",
    "#     x = img_augmentation(inputs)\n",
    "    model = EfficientNetB1(include_top=False, input_tensor=input_tensor, weights=\"imagenet\")\n",
    "\n",
    "    # Freeze the pretrained weights\n",
    "    model.trainable = True\n",
    "\n",
    "    # Rebuild top\n",
    "    x = layers.Flatten()(model.output)\n",
    "    x = layers.BatchNormalization()(x)\n",
    "    x = layers.Dense(4096, activation='relu')(x)\n",
    "    x = layers.BatchNormalization()(x)\n",
    "    x = layers.Dense(4096, activation='relu')(x)\n",
    "    #top_dropout_rate = 0.2\n",
    "    #x = layers.Dropout(top_dropout_rate, name=\"top_dropout\")(x)\n",
    "    outputs = layers.Dense(num_classes, activation='softmax', kernel_initializer='random_uniform', bias_initializer='random_uniform', bias_regularizer=regularizers.l2(0.01), name='predictions')(x)\n",
    "\n",
    "    # Compile\n",
    "    model = tf.keras.Model(inputs, outputs, name=\"EfficientNet\")\n",
    "    optimizer = tf.keras.optimizers.Adam(learning_rate=1e-5)\n",
    "    model.compile(\n",
    "        optimizer=optimizer, loss=\"categorical_crossentropy\", metrics=[\"accuracy\"]\n",
    "    )\n",
    "    return model"
   ]
  },
  {
   "cell_type": "code",
   "execution_count": 23,
   "metadata": {
    "scrolled": true
   },
   "outputs": [
    {
     "name": "stdout",
     "output_type": "stream",
     "text": [
      "Epoch 1/50\n",
      "2955/2955 [==============================] - 215s 69ms/step - loss: 0.4259 - accuracy: 0.8320 - val_loss: 0.4330 - val_accuracy: 0.8154\n",
      "Epoch 2/50\n",
      "2955/2955 [==============================] - 202s 68ms/step - loss: 0.3719 - accuracy: 0.8548 - val_loss: 0.3908 - val_accuracy: 0.8358\n",
      "Epoch 3/50\n",
      "2955/2955 [==============================] - 201s 68ms/step - loss: 0.3578 - accuracy: 0.8616 - val_loss: 0.4845 - val_accuracy: 0.7712\n",
      "Epoch 4/50\n",
      "2955/2955 [==============================] - 202s 68ms/step - loss: 0.3453 - accuracy: 0.8654 - val_loss: 0.3346 - val_accuracy: 0.8646\n",
      "Epoch 5/50\n",
      "2955/2955 [==============================] - 204s 69ms/step - loss: 0.3344 - accuracy: 0.8681 - val_loss: 0.3524 - val_accuracy: 0.8564\n",
      "Epoch 6/50\n",
      "2955/2955 [==============================] - 203s 69ms/step - loss: 0.3222 - accuracy: 0.8739 - val_loss: 0.3108 - val_accuracy: 0.8748\n",
      "Epoch 7/50\n",
      "2955/2955 [==============================] - 203s 69ms/step - loss: 0.3131 - accuracy: 0.8780 - val_loss: 0.3037 - val_accuracy: 0.8829\n",
      "Epoch 8/50\n",
      "2955/2955 [==============================] - 204s 69ms/step - loss: 0.3082 - accuracy: 0.8798 - val_loss: 0.3052 - val_accuracy: 0.8787\n",
      "Epoch 9/50\n",
      "2955/2955 [==============================] - 203s 69ms/step - loss: 0.3002 - accuracy: 0.8822 - val_loss: 0.2974 - val_accuracy: 0.8836\n",
      "Epoch 10/50\n",
      "2955/2955 [==============================] - 203s 69ms/step - loss: 0.2953 - accuracy: 0.8833 - val_loss: 0.3082 - val_accuracy: 0.8781\n",
      "Epoch 11/50\n",
      "2955/2955 [==============================] - 203s 69ms/step - loss: 0.2897 - accuracy: 0.8855 - val_loss: 0.4931 - val_accuracy: 0.7650\n",
      "Epoch 12/50\n",
      "2955/2955 [==============================] - 204s 69ms/step - loss: 0.2867 - accuracy: 0.8867 - val_loss: 0.2805 - val_accuracy: 0.8915\n",
      "Epoch 13/50\n",
      "2955/2955 [==============================] - 202s 68ms/step - loss: 0.2849 - accuracy: 0.8874 - val_loss: 0.2951 - val_accuracy: 0.8788\n",
      "Epoch 14/50\n",
      "2955/2955 [==============================] - 204s 69ms/step - loss: 0.2805 - accuracy: 0.8885 - val_loss: 0.5151 - val_accuracy: 0.7547\n",
      "Epoch 15/50\n",
      "2955/2955 [==============================] - 204s 69ms/step - loss: 0.2800 - accuracy: 0.8898 - val_loss: 0.3082 - val_accuracy: 0.8781\n",
      "Epoch 16/50\n",
      "2955/2955 [==============================] - 204s 69ms/step - loss: 0.2756 - accuracy: 0.8909 - val_loss: 0.2778 - val_accuracy: 0.8888\n",
      "Epoch 17/50\n",
      "2955/2955 [==============================] - 203s 69ms/step - loss: 0.2736 - accuracy: 0.8920 - val_loss: 0.3236 - val_accuracy: 0.8764\n",
      "Epoch 18/50\n",
      "2955/2955 [==============================] - 205s 70ms/step - loss: 0.2705 - accuracy: 0.8930 - val_loss: 0.2701 - val_accuracy: 0.8921\n",
      "Epoch 19/50\n",
      "2955/2955 [==============================] - 203s 69ms/step - loss: 0.2686 - accuracy: 0.8939 - val_loss: 0.3545 - val_accuracy: 0.8494\n",
      "Epoch 20/50\n",
      "2955/2955 [==============================] - 206s 70ms/step - loss: 0.2644 - accuracy: 0.8941 - val_loss: 0.2635 - val_accuracy: 0.8955\n",
      "Epoch 21/50\n",
      "2955/2955 [==============================] - 203s 69ms/step - loss: 0.2617 - accuracy: 0.8948 - val_loss: 0.3032 - val_accuracy: 0.8761\n",
      "Epoch 22/50\n",
      "2955/2955 [==============================] - 205s 69ms/step - loss: 0.2623 - accuracy: 0.8950 - val_loss: 0.2496 - val_accuracy: 0.8986\n",
      "Epoch 23/50\n",
      "2955/2955 [==============================] - 203s 69ms/step - loss: 0.2578 - accuracy: 0.8951 - val_loss: 0.3042 - val_accuracy: 0.8830\n",
      "Epoch 24/50\n",
      "2955/2955 [==============================] - 203s 69ms/step - loss: 0.2607 - accuracy: 0.8969 - val_loss: 0.2486 - val_accuracy: 0.9005\n",
      "Epoch 25/50\n",
      "2955/2955 [==============================] - 202s 68ms/step - loss: 0.2565 - accuracy: 0.8976 - val_loss: 0.2536 - val_accuracy: 0.8971\n",
      "Epoch 26/50\n",
      "2955/2955 [==============================] - 202s 68ms/step - loss: 0.2538 - accuracy: 0.8987 - val_loss: 0.2670 - val_accuracy: 0.8952\n",
      "Epoch 27/50\n",
      "2955/2955 [==============================] - 206s 70ms/step - loss: 0.2539 - accuracy: 0.8983 - val_loss: 0.2782 - val_accuracy: 0.8967\n",
      "Epoch 28/50\n",
      "2955/2955 [==============================] - 204s 69ms/step - loss: 0.2516 - accuracy: 0.8984 - val_loss: 0.2511 - val_accuracy: 0.9006\n",
      "Epoch 29/50\n",
      "2955/2955 [==============================] - 203s 69ms/step - loss: 0.2477 - accuracy: 0.8998 - val_loss: 0.2466 - val_accuracy: 0.9027\n",
      "Epoch 30/50\n",
      "2955/2955 [==============================] - 202s 68ms/step - loss: 0.2501 - accuracy: 0.9010 - val_loss: 0.2575 - val_accuracy: 0.8978\n",
      "Epoch 31/50\n",
      "2955/2955 [==============================] - 202s 68ms/step - loss: 0.2470 - accuracy: 0.9014 - val_loss: 0.2428 - val_accuracy: 0.9020\n",
      "Epoch 32/50\n",
      "2955/2955 [==============================] - 203s 69ms/step - loss: 0.2441 - accuracy: 0.9013 - val_loss: 0.2590 - val_accuracy: 0.8967\n",
      "Epoch 33/50\n",
      "2955/2955 [==============================] - 204s 69ms/step - loss: 0.2443 - accuracy: 0.9006 - val_loss: 0.2475 - val_accuracy: 0.9018\n",
      "Epoch 34/50\n",
      "2955/2955 [==============================] - 201s 68ms/step - loss: 0.2458 - accuracy: 0.9010 - val_loss: 0.2414 - val_accuracy: 0.9068\n",
      "Epoch 35/50\n",
      "2955/2955 [==============================] - 202s 68ms/step - loss: 0.2430 - accuracy: 0.9026 - val_loss: 0.2578 - val_accuracy: 0.9017\n",
      "Epoch 36/50\n",
      "2955/2955 [==============================] - 204s 69ms/step - loss: 0.2397 - accuracy: 0.9032 - val_loss: 0.2382 - val_accuracy: 0.9064\n",
      "Epoch 37/50\n",
      "2955/2955 [==============================] - 207s 70ms/step - loss: 0.2379 - accuracy: 0.9042 - val_loss: 0.2326 - val_accuracy: 0.9073\n",
      "Epoch 38/50\n",
      "2955/2955 [==============================] - 206s 70ms/step - loss: 0.2409 - accuracy: 0.9038 - val_loss: 0.2496 - val_accuracy: 0.9011\n",
      "Epoch 39/50\n",
      "2955/2955 [==============================] - 203s 69ms/step - loss: 0.2375 - accuracy: 0.9043 - val_loss: 0.2403 - val_accuracy: 0.9035\n",
      "Epoch 40/50\n",
      "2955/2955 [==============================] - 205s 69ms/step - loss: 0.2367 - accuracy: 0.9048 - val_loss: 0.2335 - val_accuracy: 0.9101\n",
      "Epoch 41/50\n",
      "2955/2955 [==============================] - 206s 70ms/step - loss: 0.2376 - accuracy: 0.9042 - val_loss: 0.2813 - val_accuracy: 0.8867\n",
      "Epoch 42/50\n",
      "2955/2955 [==============================] - 202s 69ms/step - loss: 0.2344 - accuracy: 0.9043 - val_loss: 0.2474 - val_accuracy: 0.9023\n",
      "Epoch 43/50\n",
      "2955/2955 [==============================] - 202s 68ms/step - loss: 0.2344 - accuracy: 0.9064 - val_loss: 0.2333 - val_accuracy: 0.9088\n",
      "Epoch 44/50\n",
      "2955/2955 [==============================] - 200s 68ms/step - loss: 0.2322 - accuracy: 0.9063 - val_loss: 0.2292 - val_accuracy: 0.9085\n",
      "Epoch 45/50\n",
      "2955/2955 [==============================] - 204s 69ms/step - loss: 0.2339 - accuracy: 0.9068 - val_loss: 0.2374 - val_accuracy: 0.9090\n",
      "Epoch 46/50\n",
      "2955/2955 [==============================] - 205s 69ms/step - loss: 0.2329 - accuracy: 0.9065 - val_loss: 0.2332 - val_accuracy: 0.9046\n",
      "Epoch 47/50\n",
      "2955/2955 [==============================] - 203s 69ms/step - loss: 0.2310 - accuracy: 0.9069 - val_loss: 0.2510 - val_accuracy: 0.8988\n",
      "Epoch 48/50\n",
      "2955/2955 [==============================] - 205s 69ms/step - loss: 0.2297 - accuracy: 0.9078 - val_loss: 0.2207 - val_accuracy: 0.9111\n",
      "Epoch 49/50\n",
      "2955/2955 [==============================] - 206s 70ms/step - loss: 0.2291 - accuracy: 0.9079 - val_loss: 0.2260 - val_accuracy: 0.9108\n",
      "Epoch 50/50\n",
      "2955/2955 [==============================] - 200s 68ms/step - loss: 0.2294 - accuracy: 0.9071 - val_loss: 0.2222 - val_accuracy: 0.9119\n"
     ]
    }
   ],
   "source": [
    "model = build_model(num_classes=NUM_CLASSES)\n",
    "\n",
    "epochs = 50  # @param {type: \"slider\", min:8, max:80}\n",
    "hist = model.fit(X_train, y_train, epochs=epochs, validation_data=(X_val, y_val), verbose=1)"
   ]
  },
  {
   "cell_type": "code",
   "execution_count": 24,
   "metadata": {},
   "outputs": [
    {
     "data": {
      "image/png": "[encoded data removed]",
      "text/plain": [
       "<Figure size 360x288 with 2 Axes>"
      ]
     },
     "metadata": {
      "needs_background": "light"
     },
     "output_type": "display_data"
    }
   ],
   "source": [
    "plot_confusion_matrix(model, X_test, y_test)"
   ]
  },
  {
   "cell_type": "code",
   "execution_count": 25,
   "metadata": {},
   "outputs": [
    {
     "data": {
      "image/png": "[encoded data removed]",
      "text/plain": [
       "<Figure size 1080x360 with 2 Axes>"
      ]
     },
     "metadata": {
      "needs_background": "light"
     },
     "output_type": "display_data"
    }
   ],
   "source": [
    "plot_accuracy_loss(hist)"
   ]
  },
  {
   "cell_type": "code",
   "execution_count": 26,
   "metadata": {},
   "outputs": [
    {
     "name": "stdout",
     "output_type": "stream",
     "text": [
      "              precision    recall  f1-score   support\n",
      "\n",
      "           0       0.93      0.97      0.95     26710\n",
      "           1       0.76      0.57      0.65      4805\n",
      "\n",
      "    accuracy                           0.91     31515\n",
      "   macro avg       0.85      0.77      0.80     31515\n",
      "weighted avg       0.90      0.91      0.90     31515\n",
      "\n"
     ]
    }
   ],
   "source": [
    "report(model, X_test, y_test)"
   ]
  },
  {
   "cell_type": "code",
   "execution_count": null,
   "metadata": {},
   "outputs": [],
   "source": [
    "def unfreeze_model(model):\n",
    "    # We unfreeze the top 20 layers while leaving BatchNorm layers frozen\n",
    "    for layer in model.layers[-20:]:\n",
    "        if not isinstance(layer, layers.BatchNormalization):\n",
    "            layer.trainable = True\n",
    "\n",
    "    optimizer = tf.keras.optimizers.Adam(learning_rate=1e-4)\n",
    "    model.compile(\n",
    "        optimizer=optimizer, loss=\"categorical_crossentropy\", metrics=[\"accuracy\"]\n",
    "    )\n",
    "\n",
    "\n",
    "unfreeze_model(model)\n",
    "\n",
    "epochs = 10  # @param {type: \"slider\", min:8, max:50}\n",
    "hist = model.fit(X_train, y_train, epochs=epochs, validation_data=(X_test, y_test), verbose=2)\n",
    "plot_hist(hist)"
   ]
  },
  {
   "cell_type": "code",
   "execution_count": null,
   "metadata": {},
   "outputs": [],
   "source": []
  }
 ],
 "metadata": {
  "kernelspec": {
   "display_name": "Python 3",
   "language": "python",
   "name": "python3"
  },
  "language_info": {
   "codemirror_mode": {
    "name": "ipython",
    "version": 3
   },
   "file_extension": ".py",
   "mimetype": "text/x-python",
   "name": "python",
   "nbconvert_exporter": "python",
   "pygments_lexer": "ipython3",
   "version": "3.6.7"
  }
 },
 "nbformat": 4,
 "nbformat_minor": 2
}
